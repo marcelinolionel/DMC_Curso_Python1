{
  "nbformat": 4,
  "nbformat_minor": 0,
  "metadata": {
    "colab": {
      "name": "Sesion01_introduction_to_python.ipynb",
      "provenance": [],
      "collapsed_sections": [],
      "include_colab_link": true
    },
    "kernelspec": {
      "name": "python3",
      "display_name": "Python 3"
    }
  },
  "cells": [
    {
      "cell_type": "markdown",
      "metadata": {
        "id": "view-in-github",
        "colab_type": "text"
      },
      "source": [
        "<a href=\"https://colab.research.google.com/github/marcelinolionel/DMC_Curso_Python1/blob/main/Sesion01_introduction_to_python.ipynb\" target=\"_parent\"><img src=\"https://colab.research.google.com/assets/colab-badge.svg\" alt=\"Open In Colab\"/></a>"
      ]
    },
    {
      "cell_type": "markdown",
      "metadata": {
        "id": "UcUDzWLGecP1"
      },
      "source": [
        "# **Sesión 01 - Introducción a python**\n",
        "\n",
        "En esta sección revisaremos cuáles son las estructuras de datos y tipos básicos con los que cuenta este lenguaje. Paso previo, revisaremos algunos conceptos importantes indispensables para la comprensión del lenguaje."
      ]
    },
    {
      "cell_type": "markdown",
      "metadata": {
        "id": "Z6jsSZpiem4T"
      },
      "source": [
        "##  **CONCEPTOS BÁSICOS**\n",
        "\n",
        "\n",
        "**Objeto**\n",
        "\n",
        "Componente que se aloja en la memoria y que tiene asociados una serie de vectores y operaciones que pueden ser realizadas con él. Un objeto en Python puede ser una cadena de texto, un número real, un diccionario o un objeto propiamente dicho, según el paradigma OOP, creado a partir de una clase determinada. En otros lenguajes de programación se emplea el término estructura de datos para referirse al objeto. Podemos considerar ambos términos como equivalentes.\n",
        "\n",
        "\n",
        "**Tipado dinámico**\n",
        "\n",
        "Python al declarar una variable no se puede indicar su tipo. En la ejecución, el tipo será asignado a la variable, empleando una técnica conocida como tipado dinámico.\n",
        "\n",
        "**¿Cómo diferencia el intérprete entre diferentes tipos y estructuras de datos?**\n",
        "\n",
        "La respuesta se encuentra en el funcionamiento interno que realiza el intérprete de la memoria. Cuando se asigna a una variable un valor, el intérprete, en tiempo de ejecución, realiza un proceso que consiste en varios pasos:\n",
        "\n",
        "\n",
        "\n",
        "1.   Se crea un objeto en la memoria con el valor asignado.\n",
        "2.   Se comprueba de que exista la variable, si no es así se crea una referencia que enlaza la nueva variable con el objeto.\n",
        "3.   Si por el contrario ya existe la variable, entonces, se cambia la referencia hacia el objeto creado.\n",
        "\n",
        "**Tanto las variables como los objetos se almacenan en diferentes zonas de la memoria.**\n",
        "\n",
        "Gracias al tipado dinámico podemos, en el mismo bloque de código, asignar diferentes tipos de datos a la misma variable, siendo el intérprete en tiempo de ejecución el que se encargará de crear los objetos y referencias que sean necesarios.\n",
        "\n",
        "Para ejemplificar el proceso ingresaremos el siguiente código:"
      ]
    },
    {
      "cell_type": "markdown",
      "metadata": {
        "id": "ao6Rl_80XFwE"
      },
      "source": [
        ""
      ]
    },
    {
      "cell_type": "markdown",
      "metadata": {
        "id": "taqYyLTcf_aU"
      },
      "source": [
        "1. Crear variables"
      ]
    },
    {
      "cell_type": "code",
      "metadata": {
        "id": "zeAt28SLeiIL"
      },
      "source": [
        "x = 8\n",
        "y = x"
      ],
      "execution_count": null,
      "outputs": []
    },
    {
      "cell_type": "markdown",
      "metadata": {
        "id": "3vh56e17gImk"
      },
      "source": [
        "2.   Consultar variable"
      ]
    },
    {
      "cell_type": "markdown",
      "metadata": {
        "id": "o-lz03xoTcjR"
      },
      "source": [
        ""
      ]
    },
    {
      "cell_type": "code",
      "metadata": {
        "id": "4lIk7avLgOli",
        "colab": {
          "base_uri": "https://localhost:8080/"
        },
        "outputId": "b678a3ff-f313-4fe5-f344-5496592c282b"
      },
      "source": [
        "x"
      ],
      "execution_count": null,
      "outputs": [
        {
          "output_type": "execute_result",
          "data": {
            "text/plain": [
              "8"
            ]
          },
          "metadata": {
            "tags": []
          },
          "execution_count": 8
        }
      ]
    },
    {
      "cell_type": "code",
      "metadata": {
        "id": "YDlTy8y2TpdY",
        "colab": {
          "base_uri": "https://localhost:8080/"
        },
        "outputId": "a3622219-fe46-47a0-cbe7-aa93fd0adcc3"
      },
      "source": [
        "y"
      ],
      "execution_count": null,
      "outputs": [
        {
          "output_type": "execute_result",
          "data": {
            "text/plain": [
              "8"
            ]
          },
          "metadata": {
            "tags": []
          },
          "execution_count": 9
        }
      ]
    },
    {
      "cell_type": "markdown",
      "metadata": {
        "id": "cggENEB1gsl6"
      },
      "source": [
        "3. Mostrar en Pantalla"
      ]
    },
    {
      "cell_type": "code",
      "metadata": {
        "id": "XEHPghGDgwsP",
        "colab": {
          "base_uri": "https://localhost:8080/"
        },
        "outputId": "835b0486-e63b-4f11-e5c6-8c06476caace"
      },
      "source": [
        "print(\"La variable es:\", x)"
      ],
      "execution_count": null,
      "outputs": [
        {
          "output_type": "stream",
          "text": [
            "La variable es: 8\n"
          ],
          "name": "stdout"
        }
      ]
    },
    {
      "cell_type": "markdown",
      "metadata": {
        "id": "oB2OvM3KiXwZ"
      },
      "source": [
        "# **TIPOS DE DATOS**\n",
        "\n",
        "*   booleano\n",
        "*   Numéricos\n",
        "*   Cadenas(string)\n",
        "*   Listas\n",
        "*   Tuplas\n",
        "*   Diccionarios\n",
        "*   DataFrames\n"
      ]
    },
    {
      "cell_type": "markdown",
      "metadata": {
        "id": "v6GYdva5RPc0"
      },
      "source": [
        "###booleano\n",
        "\n",
        "Las variables booleanas solo pueden tener los valores True o False."
      ]
    },
    {
      "cell_type": "code",
      "metadata": {
        "id": "aBhPCfJKRWDX"
      },
      "source": [
        "b1 = True\n",
        "b2 = True\n",
        "b3 = False"
      ],
      "execution_count": null,
      "outputs": []
    },
    {
      "cell_type": "code",
      "metadata": {
        "id": "cOdLNvdHRfrJ",
        "colab": {
          "base_uri": "https://localhost:8080/"
        },
        "outputId": "d9d33254-6459-4926-9828-5bb6470b14d7"
      },
      "source": [
        "type(b1)"
      ],
      "execution_count": null,
      "outputs": [
        {
          "output_type": "execute_result",
          "data": {
            "text/plain": [
              "bool"
            ]
          },
          "metadata": {
            "tags": []
          },
          "execution_count": 12
        }
      ]
    },
    {
      "cell_type": "markdown",
      "metadata": {
        "id": "bYDs4_RKVQZX"
      },
      "source": [
        "###Numéricos\n",
        "Estos tipos de datos se crean mediante literales numéricos y se devuelven como resultados por operadores aritméticos y funciones aritméticas integradas. "
      ]
    },
    {
      "cell_type": "code",
      "metadata": {
        "id": "iscO0GfSWBCv"
      },
      "source": [
        "num_entero = 8"
      ],
      "execution_count": null,
      "outputs": []
    },
    {
      "cell_type": "code",
      "metadata": {
        "id": "4aJV_J8-WESK"
      },
      "source": [
        "#en el contexto de los números enteros\n",
        "num_negativo = -100"
      ],
      "execution_count": null,
      "outputs": []
    },
    {
      "cell_type": "code",
      "metadata": {
        "id": "8xwQCXstWF0p"
      },
      "source": [
        "num_real = 4.5"
      ],
      "execution_count": null,
      "outputs": []
    },
    {
      "cell_type": "code",
      "metadata": {
        "id": "EY_bW_IqWGf9"
      },
      "source": [
        "#otra manera de expresar un número real es:\n",
        "num_real = 0.5e-7"
      ],
      "execution_count": null,
      "outputs": []
    },
    {
      "cell_type": "code",
      "metadata": {
        "id": "gcmb9Lf1WHWn"
      },
      "source": [
        "#números formados por una parte real y otra imaginaria\n",
        "num_complejo = 3.2 + 7j"
      ],
      "execution_count": null,
      "outputs": []
    },
    {
      "cell_type": "markdown",
      "metadata": {
        "id": "Uca7pu4tWUYU"
      },
      "source": [
        "####Sistemas de representación\n",
        "\n",
        "**Python** puede representar los números enteros en los sistemas decimal, octal, binario y hexadecimal. \n",
        "\n",
        "Para la representación decimal no es necesario indicar nada más que el número en cuestión. Sin embargo, para el resto de sistemas es necesario que el número sea precedido por uno o dos caracteres concretos."
      ]
    },
    {
      "cell_type": "code",
      "metadata": {
        "id": "rIEJcbGLWobj"
      },
      "source": [
        "#el número 7 en binario se representa de la siguiente forma:\n",
        "num_binario = 0b111"
      ],
      "execution_count": null,
      "outputs": []
    },
    {
      "cell_type": "code",
      "metadata": {
        "id": "tIhjG3p5WpHK"
      },
      "source": [
        "num_binario"
      ],
      "execution_count": null,
      "outputs": []
    },
    {
      "cell_type": "code",
      "metadata": {
        "id": "bYD2TrGxWqRK"
      },
      "source": [
        "#el número 8 en octak se representa de la siguiente forma:\n",
        "num_octal = 0o10"
      ],
      "execution_count": null,
      "outputs": []
    },
    {
      "cell_type": "code",
      "metadata": {
        "id": "b5Mlv_K2WuVD"
      },
      "source": [
        "num_octal"
      ],
      "execution_count": null,
      "outputs": []
    },
    {
      "cell_type": "code",
      "metadata": {
        "id": "5PC087XOWv2b"
      },
      "source": [
        "#el número 255 en el sistema hexadecimal se representa de la siguiente forma:\n",
        "num_hex = 0xff"
      ],
      "execution_count": null,
      "outputs": []
    },
    {
      "cell_type": "code",
      "metadata": {
        "id": "IaCIcTz4Ww5D"
      },
      "source": [
        "num_hex"
      ],
      "execution_count": null,
      "outputs": []
    },
    {
      "cell_type": "markdown",
      "metadata": {
        "id": "ayJ7fibgXHmD"
      },
      "source": [
        "###Cadenas de texto\n",
        "\n",
        "Las cadenas de texto (strings) son otro de los tipos de datos más utilizados en programación. Una Cadena de texto es un conjunto inmutable y ordenado de caracteres. Para su representación y definición se pueden utilizar tanto comillas dobles (\"), como simples (')."
      ]
    },
    {
      "cell_type": "code",
      "metadata": {
        "id": "AT_XN5DiXRxz"
      },
      "source": [
        "cadena = \"esto es una cadena de texto\""
      ],
      "execution_count": null,
      "outputs": []
    },
    {
      "cell_type": "code",
      "metadata": {
        "id": "jcxCP2l2XSsC"
      },
      "source": [
        "cadena2 = \"\"\"Esta cadena de texto\n",
        "tiene más de una línea. En concreto, cuenta\n",
        "con tres líneas diferentes\"\"\""
      ],
      "execution_count": null,
      "outputs": []
    },
    {
      "cell_type": "code",
      "metadata": {
        "id": "zuOZYoOWXXFn",
        "colab": {
          "base_uri": "https://localhost:8080/"
        },
        "outputId": "8397476e-c850-4f06-e3b6-b43343285d49"
      },
      "source": [
        "type(cadena2)"
      ],
      "execution_count": null,
      "outputs": [
        {
          "output_type": "execute_result",
          "data": {
            "text/plain": [
              "str"
            ]
          },
          "metadata": {
            "tags": []
          },
          "execution_count": 4
        }
      ]
    },
    {
      "cell_type": "markdown",
      "metadata": {
        "id": "5V4APJ04YCLN"
      },
      "source": [
        "####Tipos\n",
        "\n",
        "Por defecto todas las cadenas de texto son Unicode. Así, cualquier string declarado en Python será automáticamente de tipo Unicode. Los tipos son:\n",
        "\n",
        "1. Unicode\n",
        "2. Byte\n",
        "3. Bytearray."
      ]
    },
    {
      "cell_type": "markdown",
      "metadata": {
        "id": "jq73OTLzYMYg"
      },
      "source": [
        "#####Byte\n",
        "El tipo byte solo admite caracteres en codificación ASCII y, al igual que los de tipo Unicode, son inmutables.\n",
        "\n",
        "Para declarar un string de tipo byte, basta con anteponer la letra b antes de las comillas:"
      ]
    },
    {
      "cell_type": "code",
      "metadata": {
        "id": "Jx8msDXGYb9k"
      },
      "source": [
        "cad = b\"cadena de tipo byte\""
      ],
      "execution_count": null,
      "outputs": []
    },
    {
      "cell_type": "code",
      "metadata": {
        "id": "CndYL1jwYeic",
        "colab": {
          "base_uri": "https://localhost:8080/"
        },
        "outputId": "69d30eaa-a657-4791-811c-2732a6ff1978"
      },
      "source": [
        "type(cad)"
      ],
      "execution_count": null,
      "outputs": [
        {
          "output_type": "execute_result",
          "data": {
            "text/plain": [
              "bytes"
            ]
          },
          "metadata": {
            "tags": []
          },
          "execution_count": 20
        }
      ]
    },
    {
      "cell_type": "markdown",
      "metadata": {
        "id": "VR71nQZBYkb0"
      },
      "source": [
        "#####Bytearray\n",
        "\n",
        "El tipo **bytearray** es una versión mutable del tipo byte.\n",
        "La declaración de un tipo bytearray debe hacerse utilizando la función integrada que nos ofrece el intérprete. Además, es imprescindible indicar el tipo de codificación que deseamos emplear. El siguiente ejemplo utiliza la codificación de los caracteres latin1 para crear un string de este tipo:"
      ]
    },
    {
      "cell_type": "code",
      "metadata": {
        "id": "Pvrq6jA2Y8yx",
        "colab": {
          "base_uri": "https://localhost:8080/"
        },
        "outputId": "2bdf42eb-0eeb-4a73-c901-025efe9f541e"
      },
      "source": [
        "lat = bytearray(\"España\", \"latin1\")\n",
        "print(lat)"
      ],
      "execution_count": null,
      "outputs": [
        {
          "output_type": "stream",
          "text": [
            "bytearray(b'Espa\\xf1a')\n"
          ],
          "name": "stdout"
        }
      ]
    },
    {
      "cell_type": "code",
      "metadata": {
        "id": "i5BFaZLiY98P",
        "colab": {
          "base_uri": "https://localhost:8080/"
        },
        "outputId": "0cffad6e-8bc5-4bb6-fe6e-9c86ee584341"
      },
      "source": [
        "str = \"España\"\n",
        "array1 = bytearray(str, 'utf-8') \n",
        "print(array1)"
      ],
      "execution_count": null,
      "outputs": [
        {
          "output_type": "stream",
          "text": [
            "bytearray(b'Espa\\xc3\\xb1a')\n"
          ],
          "name": "stdout"
        }
      ]
    },
    {
      "cell_type": "code",
      "metadata": {
        "id": "equSkwQjZBfU",
        "colab": {
          "base_uri": "https://localhost:8080/"
        },
        "outputId": "cdf38de8-b1cf-4c11-bc9f-f34295be6cd4"
      },
      "source": [
        "bytearray(\"España\", \"utf16\")"
      ],
      "execution_count": null,
      "outputs": [
        {
          "output_type": "execute_result",
          "data": {
            "text/plain": [
              "bytearray(b'\\xff\\xfeE\\x00s\\x00p\\x00a\\x00\\xf1\\x00a\\x00')"
            ]
          },
          "metadata": {
            "tags": []
          },
          "execution_count": 23
        }
      ]
    },
    {
      "cell_type": "markdown",
      "metadata": {
        "id": "obKS2poUZKCP"
      },
      "source": [
        "encode(): transforma un tipo str en tipo byte"
      ]
    },
    {
      "cell_type": "code",
      "metadata": {
        "id": "PKCJRpUuZMLc",
        "colab": {
          "base_uri": "https://localhost:8080/"
        },
        "outputId": "68299011-36f1-42dd-b2ec-8181601c1946"
      },
      "source": [
        "cad = \"es de tipo str\"\n",
        "cad.encode()"
      ],
      "execution_count": null,
      "outputs": [
        {
          "output_type": "execute_result",
          "data": {
            "text/plain": [
              "b'es de tipo str'"
            ]
          },
          "metadata": {
            "tags": []
          },
          "execution_count": 24
        }
      ]
    },
    {
      "cell_type": "markdown",
      "metadata": {
        "id": "CuueZX8EZQ_j"
      },
      "source": [
        "decode(): transforma un tipo byte en tipo str"
      ]
    },
    {
      "cell_type": "code",
      "metadata": {
        "id": "XR7ONrRZZPX-"
      },
      "source": [
        "cad = b\"es de tipo byte\"\n",
        "cad.decode()"
      ],
      "execution_count": null,
      "outputs": []
    },
    {
      "cell_type": "markdown",
      "metadata": {
        "id": "II0z0D8gZVIw"
      },
      "source": [
        "###Listas\n",
        "\n",
        "Las listas contienen valores de cualquier tipo simple (numérico o no numérico), y podrían ser estructuras compuestas (lista de listas). Si usamos como referencia a una hoja de calculo con datos sobre individuos, una lista podria ser una fila que tiene los datos de los individuos.\n"
      ]
    },
    {
      "cell_type": "code",
      "metadata": {
        "id": "gpY_VwqyZkHq"
      },
      "source": [
        "Estudiante=[\"Manuel Ponte\",23,\"False\"]"
      ],
      "execution_count": null,
      "outputs": []
    },
    {
      "cell_type": "markdown",
      "metadata": {
        "id": "8RUdU37fZmBm"
      },
      "source": [
        "El object ‘Estudiante’ almacena temporalmente la lista en la computadora. Los nombre pueden contener letras del alfabeto y números (y algunos caracteres de puntuación), pero no debe comenzar con un número.\n",
        "\n",
        "En el código anterior, sólo se ha pedido crear la lista. Python lo ejecuta y nada más, no tienes que esperar ningún mensaje ni resultado. Si quieres ver lo que has creado, escribelo de manera explicita, así:"
      ]
    },
    {
      "cell_type": "code",
      "metadata": {
        "id": "T0XFzp2dZnHv"
      },
      "source": [
        "Estudiante"
      ],
      "execution_count": null,
      "outputs": []
    },
    {
      "cell_type": "markdown",
      "metadata": {
        "id": "ylr-kQHMZufu"
      },
      "source": [
        "Nota que hay varios tipos de datos en la lista:\n",
        "\n",
        "Nombre y apellido es texto o caracteres.\n",
        "* edad es un numero.\n",
        "* Mujer es un valor lógico.\n",
        "* Para acceder a cada uno de los elemento tu lista:"
      ]
    },
    {
      "cell_type": "code",
      "metadata": {
        "id": "ScapVPGqZrr_"
      },
      "source": [
        "Estudiante[0] # primer elemento comienza con indice '0'"
      ],
      "execution_count": null,
      "outputs": []
    },
    {
      "cell_type": "code",
      "metadata": {
        "id": "89gkuSyUZ3A-"
      },
      "source": [
        "Estudiante[:2] # todo antes de índice 2 "
      ],
      "execution_count": null,
      "outputs": []
    },
    {
      "cell_type": "code",
      "metadata": {
        "id": "5tIiEfIzZ4N-"
      },
      "source": [
        "Estudiante[-1] # ultimo elementos"
      ],
      "execution_count": null,
      "outputs": []
    },
    {
      "cell_type": "markdown",
      "metadata": {
        "id": "BaaeCQirZ8xX"
      },
      "source": [
        "###Tuplas\n",
        "\n",
        "En Python una tupla es una estructura de datos que representa una colección de objetos, pudiendo estos ser de distintos tipos. Internamente, para representar una tupla, Python utiliza un array de objetos que almacena referencias hacia otros objetos."
      ]
    },
    {
      "cell_type": "markdown",
      "metadata": {
        "id": "xY81nTE5aloW"
      },
      "source": [
        "Al principio parace que fueran listas:"
      ]
    },
    {
      "cell_type": "code",
      "metadata": {
        "id": "UY6FlHFMZ_Kn"
      },
      "source": [
        "Estudiante[0]='Omar Escobedo'\n",
        "Estudiante"
      ],
      "execution_count": null,
      "outputs": []
    },
    {
      "cell_type": "markdown",
      "metadata": {
        "id": "6_xzWLFFa5Sy"
      },
      "source": [
        "\n",
        "Para crearlas puedes usar '( )', el comando tuple() o nada:"
      ]
    },
    {
      "cell_type": "code",
      "metadata": {
        "id": "8R4sGH0faCBf",
        "colab": {
          "base_uri": "https://localhost:8080/"
        },
        "outputId": "3657505f-4fe6-4708-c4fe-a681c3f4c3b7"
      },
      "source": [
        "Estudiantetupla='Karolayne Pacherres',23,'True'\n",
        "Estudiantetupla"
      ],
      "execution_count": null,
      "outputs": [
        {
          "output_type": "execute_result",
          "data": {
            "text/plain": [
              "('Karolayne Pacherres', 23, 'True')"
            ]
          },
          "metadata": {
            "tags": []
          },
          "execution_count": 43
        }
      ]
    },
    {
      "cell_type": "code",
      "metadata": {
        "id": "5oOF7amda9oj",
        "colab": {
          "base_uri": "https://localhost:8080/",
          "height": 35
        },
        "outputId": "4355d681-6c3a-4447-cdbe-e37a6bec8073"
      },
      "source": [
        "#Se puede realizar la consulta a través del índice que ocupa en la misma.\n",
        "#exactamente igual que un array\n",
        "Estudiantetupla[0]"
      ],
      "execution_count": null,
      "outputs": [
        {
          "output_type": "execute_result",
          "data": {
            "application/vnd.google.colaboratory.intrinsic+json": {
              "type": "string"
            },
            "text/plain": [
              "'Karolayne Pacherres'"
            ]
          },
          "metadata": {
            "tags": []
          },
          "execution_count": 44
        }
      ]
    },
    {
      "cell_type": "markdown",
      "metadata": {
        "id": "u0FVHIUjbAbC"
      },
      "source": [
        "Dado que una tupla puede almacenar distintos tipos de objetos, es posible anidar diferentes tuplas; veamos un sencillo ejemplo:"
      ]
    },
    {
      "cell_type": "code",
      "metadata": {
        "id": "2bMzP40IbEOn",
        "colab": {
          "base_uri": "https://localhost:8080/"
        },
        "outputId": "1e4032e7-1e9a-4cca-f7e2-db5dae5f14bc"
      },
      "source": [
        "t = (1, (\"a\", 3), 5.6)\n",
        "t"
      ],
      "execution_count": null,
      "outputs": [
        {
          "output_type": "execute_result",
          "data": {
            "text/plain": [
              "(1, ('a', 3), 5.6)"
            ]
          },
          "metadata": {
            "tags": []
          },
          "execution_count": 46
        }
      ]
    },
    {
      "cell_type": "markdown",
      "metadata": {
        "id": "P9w39gtdbT3a"
      },
      "source": [
        "###Diccionario\n",
        "Los Diccionarios, superficialmente, son lo más similares a las listas de R"
      ]
    },
    {
      "cell_type": "code",
      "metadata": {
        "id": "GMqlynXTbbbe",
        "colab": {
          "base_uri": "https://localhost:8080/"
        },
        "outputId": "dceec0b5-a911-40ea-fd5e-1ff9205be706"
      },
      "source": [
        "# creando diccionarios:\n",
        "EstudianteDict={'Nombres':\"Manuel Ponte\",\n",
        "               'edad':23,\n",
        "               'femenino':False}\n",
        "#en los diccionarios se deben indicar los nombres de los atributos\n",
        "# seeing it:\n",
        "EstudianteDict"
      ],
      "execution_count": null,
      "outputs": [
        {
          "output_type": "execute_result",
          "data": {
            "text/plain": [
              "{'Nombres': 'Manuel Ponte', 'edad': 23, 'femenino': False}"
            ]
          },
          "metadata": {
            "tags": []
          },
          "execution_count": 1
        }
      ]
    },
    {
      "cell_type": "markdown",
      "metadata": {
        "id": "7NDKkzv2bdyt"
      },
      "source": [
        "Pero no tienen índices:"
      ]
    },
    {
      "cell_type": "code",
      "metadata": {
        "id": "DYlOLCx2bgTf",
        "colab": {
          "base_uri": "https://localhost:8080/",
          "height": 171
        },
        "outputId": "76d9ad20-fcfd-4850-dc6a-beedf05020d9"
      },
      "source": [
        "EstudianteDict[0]"
      ],
      "execution_count": null,
      "outputs": [
        {
          "output_type": "error",
          "ename": "KeyError",
          "evalue": "ignored",
          "traceback": [
            "\u001b[0;31m---------------------------------------------------------------------------\u001b[0m",
            "\u001b[0;31mKeyError\u001b[0m                                  Traceback (most recent call last)",
            "\u001b[0;32m<ipython-input-2-9f38b07bc1c2>\u001b[0m in \u001b[0;36m<module>\u001b[0;34m()\u001b[0m\n\u001b[0;32m----> 1\u001b[0;31m \u001b[0mEstudianteDict\u001b[0m\u001b[0;34m[\u001b[0m\u001b[0;36m0\u001b[0m\u001b[0;34m]\u001b[0m\u001b[0;34m\u001b[0m\u001b[0;34m\u001b[0m\u001b[0m\n\u001b[0m",
            "\u001b[0;31mKeyError\u001b[0m: 0"
          ]
        }
      ]
    },
    {
      "cell_type": "markdown",
      "metadata": {
        "id": "_vvVSg5ebltu"
      },
      "source": [
        "Pare ver un elemento, tienes que saber el nombre de su campo ('key'):"
      ]
    },
    {
      "cell_type": "code",
      "metadata": {
        "id": "awWULXTNbm6y",
        "colab": {
          "base_uri": "https://localhost:8080/"
        },
        "outputId": "d70aa250-c7be-468a-f7d7-acfb69350d8e"
      },
      "source": [
        "EstudianteDict['edad']"
      ],
      "execution_count": null,
      "outputs": [
        {
          "output_type": "execute_result",
          "data": {
            "text/plain": [
              "23"
            ]
          },
          "metadata": {
            "tags": []
          },
          "execution_count": 32
        }
      ]
    },
    {
      "cell_type": "code",
      "metadata": {
        "id": "T_vfcO7vbvvZ",
        "colab": {
          "base_uri": "https://localhost:8080/"
        },
        "outputId": "48b586b6-9e54-4fc1-a841-91cb7cedb6c1"
      },
      "source": [
        "type(EstudianteDict)"
      ],
      "execution_count": null,
      "outputs": [
        {
          "output_type": "execute_result",
          "data": {
            "text/plain": [
              "dict"
            ]
          },
          "metadata": {
            "tags": []
          },
          "execution_count": 33
        }
      ]
    },
    {
      "cell_type": "markdown",
      "metadata": {
        "id": "8qRAn1G1cTEh"
      },
      "source": [
        "### Data Frames\n",
        "\n",
        "Los Data Frames pueden interpretarse como estructuras compuestas en base a las simples. Python requiere que llamemos al paquete pandas para usar DFs:"
      ]
    },
    {
      "cell_type": "code",
      "metadata": {
        "id": "Sgl9lS1ncapA"
      },
      "source": [
        "import pandas as pd\n",
        "\n",
        "# estas son columnas:\n",
        "#listas de columnas\n",
        "\n",
        "nombres=[\"Manuel\", \"Karen\", \"Karolayne\", \"Omar\"]\n",
        "edad=[23,29,23,26]\n",
        "pais=[\"Ecuador\", \"Perú\", \"Brasil\", \"Argentina\"]\n",
        "educacion=[\"Bach\", \"Lic\", \"Bach\", \"PhD\"]"
      ],
      "execution_count": null,
      "outputs": []
    },
    {
      "cell_type": "code",
      "metadata": {
        "id": "S7p66eSGcdsm"
      },
      "source": [
        "# las llevamos a diccionario:\n",
        "data={'nombres':nombres, 'edad':edad, 'pais':pais, 'educacion':educacion}"
      ],
      "execution_count": null,
      "outputs": []
    },
    {
      "cell_type": "markdown",
      "metadata": {
        "id": "gRUhWiQkcf27"
      },
      "source": [
        "...y de dict a DF:"
      ]
    },
    {
      "cell_type": "code",
      "metadata": {
        "id": "nuFh_I4HcgXb",
        "colab": {
          "base_uri": "https://localhost:8080/",
          "height": 173
        },
        "outputId": "a127fcbc-1935-4d0f-d553-6e507918acd1"
      },
      "source": [
        "estudiantes=pd.DataFrame(data)\n",
        "# check it:\n",
        "estudiantes"
      ],
      "execution_count": null,
      "outputs": [
        {
          "output_type": "execute_result",
          "data": {
            "text/html": [
              "<div>\n",
              "<style scoped>\n",
              "    .dataframe tbody tr th:only-of-type {\n",
              "        vertical-align: middle;\n",
              "    }\n",
              "\n",
              "    .dataframe tbody tr th {\n",
              "        vertical-align: top;\n",
              "    }\n",
              "\n",
              "    .dataframe thead th {\n",
              "        text-align: right;\n",
              "    }\n",
              "</style>\n",
              "<table border=\"1\" class=\"dataframe\">\n",
              "  <thead>\n",
              "    <tr style=\"text-align: right;\">\n",
              "      <th></th>\n",
              "      <th>nombres</th>\n",
              "      <th>edad</th>\n",
              "      <th>pais</th>\n",
              "      <th>educacion</th>\n",
              "    </tr>\n",
              "  </thead>\n",
              "  <tbody>\n",
              "    <tr>\n",
              "      <th>0</th>\n",
              "      <td>Manuel</td>\n",
              "      <td>23</td>\n",
              "      <td>Ecuador</td>\n",
              "      <td>Bach</td>\n",
              "    </tr>\n",
              "    <tr>\n",
              "      <th>1</th>\n",
              "      <td>Karen</td>\n",
              "      <td>29</td>\n",
              "      <td>Perú</td>\n",
              "      <td>Lic</td>\n",
              "    </tr>\n",
              "    <tr>\n",
              "      <th>2</th>\n",
              "      <td>Karolayne</td>\n",
              "      <td>23</td>\n",
              "      <td>Brasil</td>\n",
              "      <td>Bach</td>\n",
              "    </tr>\n",
              "    <tr>\n",
              "      <th>3</th>\n",
              "      <td>Omar</td>\n",
              "      <td>26</td>\n",
              "      <td>Argentina</td>\n",
              "      <td>PhD</td>\n",
              "    </tr>\n",
              "  </tbody>\n",
              "</table>\n",
              "</div>"
            ],
            "text/plain": [
              "     nombres  edad       pais educacion\n",
              "0     Manuel    23    Ecuador      Bach\n",
              "1      Karen    29       Perú       Lic\n",
              "2  Karolayne    23     Brasil      Bach\n",
              "3       Omar    26  Argentina       PhD"
            ]
          },
          "metadata": {
            "tags": []
          },
          "execution_count": 36
        }
      ]
    },
    {
      "cell_type": "code",
      "metadata": {
        "id": "85wIwfRacnpu"
      },
      "source": [
        "type(estudiantes)"
      ],
      "execution_count": null,
      "outputs": []
    },
    {
      "cell_type": "markdown",
      "metadata": {
        "id": "A2DlhjBVcF5a"
      },
      "source": [
        "#PRACTICA 01\n",
        "\n",
        "1.   Busque un personaje publico de su preferencia en wikipedia\n",
        "2.   Haga un diccionario de la manera más simple.\n",
        "3.   Haga luego un diccionario usando donde se pueda otras estructuras (listas, tuplas, diccionarios) \n",
        "\n",
        "\n",
        "\n",
        "\n"
      ]
    },
    {
      "cell_type": "code",
      "metadata": {
        "id": "BmXlL5fmdnev",
        "colab": {
          "base_uri": "https://localhost:8080/"
        },
        "outputId": "d2efb89e-19ea-4f4e-de51-f731d394b431"
      },
      "source": [
        "Bachelet={'nombre en español':\"Verónica Michelle Bachelet Jeria\",\n",
        "               'nacimiento':\"29 de septiembre de 1951\",\n",
        "               'Residencia':\"Santiago, Chile\",\n",
        "         'nacionalidad':\"Chilena\",\n",
        "         'lengua materna':\"Español\",\n",
        "         'religión':\"Agnosticismo\",\n",
        "         'partido político':\"Partido Socialista\",\n",
        "         'padres':\"Ángela Jeria Gómez , Alberto Bachelet Martínez\",\n",
        "         'cónyugue':\"Jorge Dávalos Cartes\",\n",
        "         'hijos':\"Sebastián , Francisca , Sofía\",\n",
        "         'educada en':\"Universidad de Chile\",\n",
        "         'ocupación':\"médico\",}\n",
        "Bachelet"
      ],
      "execution_count": null,
      "outputs": [
        {
          "output_type": "execute_result",
          "data": {
            "text/plain": [
              "{'Residencia': 'Santiago, Chile',\n",
              " 'cónyugue': 'Jorge Dávalos Cartes',\n",
              " 'educada en': 'Universidad de Chile',\n",
              " 'hijos': 'Sebastián , Francisca , Sofía',\n",
              " 'lengua materna': 'Español',\n",
              " 'nacimiento': '29 de septiembre de 1951',\n",
              " 'nacionalidad': 'Chilena',\n",
              " 'nombre en español': 'Verónica Michelle Bachelet Jeria',\n",
              " 'ocupación': 'médico',\n",
              " 'padres': 'Ángela Jeria Gómez , Alberto Bachelet Martínez',\n",
              " 'partido político': 'Partido Socialista',\n",
              " 'religión': 'Agnosticismo'}"
            ]
          },
          "metadata": {
            "tags": []
          },
          "execution_count": 1
        }
      ]
    },
    {
      "cell_type": "code",
      "metadata": {
        "id": "sG1cxashdpn1"
      },
      "source": [
        "padres=[\"Ángela Jeria Gómez\",\"Alberto Bachelet Martínez\"]\n",
        "hijos=[\"Sebastián\",\"Francisca\", \"Sofía\"]"
      ],
      "execution_count": null,
      "outputs": []
    },
    {
      "cell_type": "code",
      "metadata": {
        "id": "jhV9u-tVdrql",
        "colab": {
          "base_uri": "https://localhost:8080/"
        },
        "outputId": "a1052bab-0c9a-4d21-e4a7-4ffd0e74ca10"
      },
      "source": [
        "Bachelet={'nombre en español':\"Verónica Michelle Bachelet Jeria\",\n",
        "               'nacimiento':\"29 de septiembre de 1951\",\n",
        "               'Residencia':\"Santiago, Chile\",\n",
        "         'nacionalidad':\"Chilena\",\n",
        "         'lengua materna':\"Español\",\n",
        "         'religión':\"Agnosticismo\",\n",
        "         'partido político':\"Partido Socialista\",\n",
        "         'padres':padres,\n",
        "         'cónyugue':\"Jorge Dávalos Cartes\",\n",
        "         'hijos':hijos,\n",
        "         'educada en':\"Universidad de Chile\",\n",
        "         'ocupación':\"médico\",}\n",
        "Bachelet"
      ],
      "execution_count": null,
      "outputs": [
        {
          "output_type": "execute_result",
          "data": {
            "text/plain": [
              "{'Residencia': 'Santiago, Chile',\n",
              " 'cónyugue': 'Jorge Dávalos Cartes',\n",
              " 'educada en': 'Universidad de Chile',\n",
              " 'hijos': ['Sebastián', 'Francisca', 'Sofía'],\n",
              " 'lengua materna': 'Español',\n",
              " 'nacimiento': '29 de septiembre de 1951',\n",
              " 'nacionalidad': 'Chilena',\n",
              " 'nombre en español': 'Verónica Michelle Bachelet Jeria',\n",
              " 'ocupación': 'médico',\n",
              " 'padres': ['Ángela Jeria Gómez', 'Alberto Bachelet Martínez'],\n",
              " 'partido político': 'Partido Socialista',\n",
              " 'religión': 'Agnosticismo'}"
            ]
          },
          "metadata": {
            "tags": []
          },
          "execution_count": 39
        }
      ]
    },
    {
      "cell_type": "code",
      "metadata": {
        "id": "nmXorphBdtcF",
        "colab": {
          "base_uri": "https://localhost:8080/"
        },
        "outputId": "5431dc22-df07-4ae1-e38a-cb5b3193eda1"
      },
      "source": [
        "type(Bachelet)"
      ],
      "execution_count": null,
      "outputs": [
        {
          "output_type": "execute_result",
          "data": {
            "text/plain": [
              "dict"
            ]
          },
          "metadata": {
            "tags": []
          },
          "execution_count": 40
        }
      ]
    },
    {
      "cell_type": "markdown",
      "metadata": {
        "id": "wgGNXCi1vlNJ"
      },
      "source": [
        "# **TAREA:**"
      ]
    },
    {
      "cell_type": "code",
      "metadata": {
        "id": "sO8xXRHev7PJ",
        "colab": {
          "base_uri": "https://localhost:8080/"
        },
        "outputId": "bbc5cf03-b3dc-4cad-d62a-2652d81cb40a"
      },
      "source": [
        "#Diccionario simple\n",
        "Lapadula={'Nombre':\"Gianluca Lapadula Vargas\",\n",
        "          'nacimiento':\"7 de febrero de 1990\",\n",
        "          'lugar_nacimiento':\"Turín, Piamonte\",\n",
        "          'edad':\"30 años\",\n",
        "          'altura':\"1,78 m\",\n",
        "          'peso':\"72 kg\",\n",
        "          }\n",
        "Lapadula"
      ],
      "execution_count": null,
      "outputs": [
        {
          "output_type": "execute_result",
          "data": {
            "text/plain": [
              "{'Nombre': 'Gianluca Lapadula Vargas',\n",
              " 'altura': '1,78 m',\n",
              " 'edad': '30 años',\n",
              " 'lugar_nacimiento': 'Turín, Piamonte',\n",
              " 'nacimiento': '7 de febrero de 1990',\n",
              " 'peso': '72 kg'}"
            ]
          },
          "metadata": {
            "tags": []
          },
          "execution_count": 1
        }
      ]
    },
    {
      "cell_type": "code",
      "metadata": {
        "id": "OwHYANB-lvND"
      },
      "source": [
        "#Construyendo un diccionario, usando otras estructuras:\n",
        "#Tuplas\n",
        "carrera=('Fútbol','Benevento Calcio','Serie A','Delantero')\n",
        "padres='Blanca Aida Vargas Higinio', 'Gianfranco Lapadula'\n",
        "apodo='Sir William','Lapagol','Bambino de Los Andes','Tanque Inca'\n",
        "nacionalidad=('Italiana','Peruana')"
      ],
      "execution_count": null,
      "outputs": []
    },
    {
      "cell_type": "code",
      "metadata": {
        "id": "ye9fT9PPd36A"
      },
      "source": [
        "#Lista\n",
        "trayectoria=[\"U. S. Pro Vercelli Calcio (2007-2008)\",\"Ivrea (2008-2009)\",\"Parma F. C. (2009-2012)\",\"Atletico Roma F. C. (2010-2011)\",\n",
        "             \"Ravenna F. C. (2011)\",\"San Marino Calcio (2011-2012)\",\"A. C. Cesena (2012-2013)\",\"Frosinone Calcio (2013)\",\"Parma F. C. (2013-2015)\",\n",
        "             \"N. D. Gorica (2013-2014)\",\"Teramo Calcio (2014-2015)\",\"Delfino Pescara 1936 (2015-2016)\",\"A. C. Milan (2016-2018)\",\n",
        "             \"Genoa C. F. C. (2017-2018)\",\"Genoa C. F. C. (2018-2020)\",\"U. S. Lecce (2019-2020)\",\"Benevento Calcio (2020-Act.)\"]"
      ],
      "execution_count": null,
      "outputs": []
    },
    {
      "cell_type": "code",
      "metadata": {
        "id": "cNFS9al9laYE"
      },
      "source": [
        "#Diccionario (unificado)\n",
        "Lapadula={'Nombre':\"Gianluca Lapadula Vargas\",\n",
        "          'apodo':apodo,\n",
        "          'padres':padres,\n",
        "          'nacimiento':\"7 de febrero de 1990\",\n",
        "          'lugar_nacimiento':\"Turín, Piamonte\",\n",
        "          'nacionalidad':nacionalidad,\n",
        "          'edad':\"30 años\",\n",
        "          'altura':\"1,78 m\",\n",
        "          'peso':\"72 kg\",\n",
        "          'carrera':carrera,\n",
        "          'trayectoria':trayectoria\n",
        "          }\n",
        "Lapadula"
      ],
      "execution_count": null,
      "outputs": []
    },
    {
      "cell_type": "code",
      "metadata": {
        "id": "GkloVMJQw_wy"
      },
      "source": [
        "#Hacemos un DataFrame\n",
        "import pandas as pd\n",
        "data={'Apodo':apodo,'Carrera':carrera}\n",
        "pd.DataFrame(data)"
      ],
      "execution_count": null,
      "outputs": []
    },
    {
      "cell_type": "code",
      "metadata": {
        "colab": {
          "base_uri": "https://localhost:8080/"
        },
        "id": "5hEl1g89KW-X",
        "outputId": "266b7922-684e-4f1e-e212-1031230745c7"
      },
      "source": [
        "titulares_seleccion=[\"Gallese\",\"Abram\",\"Zambrano\",\"Advincula\",\"Trauco\",\"Yotun\",\"Tapia\",\"Cueva\",\"Flores\",\"Carrillo\",\"Lapadula\"]\n",
        "titulares_seleccion"
      ],
      "execution_count": null,
      "outputs": [
        {
          "output_type": "execute_result",
          "data": {
            "text/plain": [
              "['Gallese',\n",
              " 'Abram',\n",
              " 'Zambrano',\n",
              " 'Advincula',\n",
              " 'Trauco',\n",
              " 'Yotun',\n",
              " 'Tapia',\n",
              " 'Cueva',\n",
              " 'Flores',\n",
              " 'Carrillo',\n",
              " 'Lapadula']"
            ]
          },
          "metadata": {
            "tags": []
          },
          "execution_count": 4
        }
      ]
    },
    {
      "cell_type": "code",
      "metadata": {
        "colab": {
          "base_uri": "https://localhost:8080/"
        },
        "id": "qs9Czq64LhV9",
        "outputId": "c04d4bf7-6d43-4ba9-9036-1ca371d21682"
      },
      "source": [
        "paises_fronterizos=[\"Ecuador\",\"Colombia\",\"Brasil\",\"Bolivia\",\"Chile\"]\n",
        "paises_fronterizos"
      ],
      "execution_count": null,
      "outputs": [
        {
          "output_type": "execute_result",
          "data": {
            "text/plain": [
              "['Ecuador', 'Colombia', 'Brasil', 'Bolivia', 'Chile']"
            ]
          },
          "metadata": {
            "tags": []
          },
          "execution_count": 5
        }
      ]
    },
    {
      "cell_type": "markdown",
      "metadata": {
        "id": "5muC_BV7MwEV"
      },
      "source": [
        "# PROBANDO!!!"
      ]
    }
  ]
}