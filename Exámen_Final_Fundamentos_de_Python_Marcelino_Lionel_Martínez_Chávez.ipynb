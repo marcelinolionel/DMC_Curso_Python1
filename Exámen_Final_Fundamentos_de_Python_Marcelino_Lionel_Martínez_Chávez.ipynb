{
  "nbformat": 4,
  "nbformat_minor": 0,
  "metadata": {
    "colab": {
      "name": "Exámen_Final_Fundamentos_de_Python_Marcelino_Lionel_Martínez_Chávez.ipynb",
      "provenance": [],
      "include_colab_link": true
    },
    "kernelspec": {
      "name": "python3",
      "display_name": "Python 3"
    }
  },
  "cells": [
    {
      "cell_type": "markdown",
      "metadata": {
        "id": "view-in-github",
        "colab_type": "text"
      },
      "source": [
        "<a href=\"https://colab.research.google.com/github/marcelinolionel/DMC_Curso_Python1/blob/main/Ex%C3%A1men_Final_Fundamentos_de_Python_Marcelino_Lionel_Mart%C3%ADnez_Ch%C3%A1vez.ipynb\" target=\"_parent\"><img src=\"https://colab.research.google.com/assets/colab-badge.svg\" alt=\"Open In Colab\"/></a>"
      ]
    },
    {
      "cell_type": "code",
      "metadata": {
        "id": "njxRZIe2dvhU",
        "colab": {
          "base_uri": "https://localhost:8080/"
        },
        "outputId": "eded3c56-fb6c-42fe-a02b-7279b6bcad26"
      },
      "source": [
        "#Realizar un print con tu nombre completo\n",
        "print(\"MARCELINO LIONEL MARTÍNEZ CHÁVEZ\")"
      ],
      "execution_count": null,
      "outputs": [
        {
          "output_type": "stream",
          "text": [
            "MARCELINO LIONEL MARTÍNEZ CHÁVEZ\n"
          ],
          "name": "stdout"
        }
      ]
    },
    {
      "cell_type": "markdown",
      "metadata": {
        "id": "8zvm6LxRaZ89"
      },
      "source": [
        "#Examen Final - Fundamentos de Python\n",
        "\n",
        "\n",
        "\n",
        "1.   Desarrollar el examen teórico https://www.questionpro.com/t/ARQPVZjyp0\n",
        "2.   Enviar los ejercicios de cada sesión.\n",
        "\n",
        "\n",
        "# **NOTA: Enviar la información hasta las 23:59 PM del 22/11/2020**\n",
        "Drive: https://drive.google.com/drive/folders/1Dny1t1c4qEy0MZ3_r9oOQjvL9TByoHVU?usp=sharing"
      ]
    },
    {
      "cell_type": "markdown",
      "metadata": {
        "id": "cs1R7XWJcN4l"
      },
      "source": [
        "### Laboratorio 01 \n",
        "\n",
        "* Busque un personaje publico de su preferencia en wikipedia\n",
        "* Haga un diccionario de la manera más simple.\n",
        "* Haga luego un diccionario usando donde se pueda otras estructuras (listas, tuplas, diccionarios)\n",
        "\n",
        "Referencia : https://github.com/juansalinasponce/course_python/blob/main/Sesion_02/Sesion02_FDP_Tipos_de_Datos.ipynb"
      ]
    },
    {
      "cell_type": "markdown",
      "metadata": {
        "id": "b4UwuXLORc80"
      },
      "source": [
        "### **Personaje público: \"Lapadula\"**"
      ]
    },
    {
      "cell_type": "code",
      "metadata": {
        "id": "4D9n4EOUcfrj",
        "colab": {
          "base_uri": "https://localhost:8080/"
        },
        "outputId": "1841225c-a8af-421c-af55-5318a7ff0243"
      },
      "source": [
        "#Diccionario simple\n",
        "Lapadula={'Nombre':\"Gianluca Lapadula Vargas\",\n",
        "          'nacimiento':\"7 de febrero de 1990\",\n",
        "          'lugar_nacimiento':\"Turín, Piamonte\",\n",
        "          'edad':\"30 años\",\n",
        "          'altura':\"1,78 m\",\n",
        "          'peso':\"72 kg\",\n",
        "          }\n",
        "Lapadula"
      ],
      "execution_count": null,
      "outputs": [
        {
          "output_type": "execute_result",
          "data": {
            "text/plain": [
              "{'Nombre': 'Gianluca Lapadula Vargas',\n",
              " 'altura': '1,78 m',\n",
              " 'edad': '30 años',\n",
              " 'lugar_nacimiento': 'Turín, Piamonte',\n",
              " 'nacimiento': '7 de febrero de 1990',\n",
              " 'peso': '72 kg'}"
            ]
          },
          "metadata": {
            "tags": []
          },
          "execution_count": 47
        }
      ]
    },
    {
      "cell_type": "code",
      "metadata": {
        "id": "A8NYTIZhRyVC"
      },
      "source": [
        "#Construyendo un diccionario, usando otras estructuras:\n",
        "#Tuplas\n",
        "carrera=('Fútbol','Benevento Calcio','Serie A','Delantero')\n",
        "padres='Blanca Aida Vargas Higinio', 'Gianfranco Lapadula'\n",
        "apodo='Sir William','Lapagol','Bambino de Los Andes','Tanque Inca'\n",
        "nacionalidad=('Italiana','Peruana')\n",
        "#Lista\n",
        "trayectoria=[\"U. S. Pro Vercelli Calcio (2007-2008)\",\"Ivrea (2008-2009)\",\"Parma F. C. (2009-2012)\",\"Atletico Roma F. C. (2010-2011)\",\n",
        "             \"Ravenna F. C. (2011)\",\"San Marino Calcio (2011-2012)\",\"A. C. Cesena (2012-2013)\",\"Frosinone Calcio (2013)\",\"Parma F. C. (2013-2015)\",\n",
        "             \"N. D. Gorica (2013-2014)\",\"Teramo Calcio (2014-2015)\",\"Delfino Pescara 1936 (2015-2016)\",\"A. C. Milan (2016-2018)\",\n",
        "             \"Genoa C. F. C. (2017-2018)\",\"Genoa C. F. C. (2018-2020)\",\"U. S. Lecce (2019-2020)\",\"Benevento Calcio (2020-Act.)\"]"
      ],
      "execution_count": null,
      "outputs": []
    },
    {
      "cell_type": "code",
      "metadata": {
        "id": "x57YbqP0R8gV",
        "colab": {
          "base_uri": "https://localhost:8080/"
        },
        "outputId": "3dbe2ce6-f8b7-4f8d-f82a-afa00ceac0f9"
      },
      "source": [
        "#Diccionario (unificado)\n",
        "Lapadula={'Nombre':\"Gianluca Lapadula Vargas\",\n",
        "          'apodo':apodo,\n",
        "          'padres':padres,\n",
        "          'nacimiento':\"7 de febrero de 1990\",\n",
        "          'lugar_nacimiento':\"Turín, Piamonte\",\n",
        "          'nacionalidad':nacionalidad,\n",
        "          'edad':\"30 años\",\n",
        "          'altura':\"1,78 m\",\n",
        "          'peso':\"72 kg\",\n",
        "          'carrera':carrera,\n",
        "          'trayectoria':trayectoria\n",
        "          }\n",
        "Lapadula"
      ],
      "execution_count": null,
      "outputs": [
        {
          "output_type": "execute_result",
          "data": {
            "text/plain": [
              "{'Nombre': 'Gianluca Lapadula Vargas',\n",
              " 'altura': '1,78 m',\n",
              " 'apodo': ('Sir William', 'Lapagol', 'Bambino de Los Andes', 'Tanque Inca'),\n",
              " 'carrera': ('Fútbol', 'Benevento Calcio', 'Serie A', 'Delantero'),\n",
              " 'edad': '30 años',\n",
              " 'lugar_nacimiento': 'Turín, Piamonte',\n",
              " 'nacimiento': '7 de febrero de 1990',\n",
              " 'nacionalidad': ('Italiana', 'Peruana'),\n",
              " 'padres': ('Blanca Aida Vargas Higinio', 'Gianfranco Lapadula'),\n",
              " 'peso': '72 kg',\n",
              " 'trayectoria': ['U. S. Pro Vercelli Calcio (2007-2008)',\n",
              "  'Ivrea (2008-2009)',\n",
              "  'Parma F. C. (2009-2012)',\n",
              "  'Atletico Roma F. C. (2010-2011)',\n",
              "  'Ravenna F. C. (2011)',\n",
              "  'San Marino Calcio (2011-2012)',\n",
              "  'A. C. Cesena (2012-2013)',\n",
              "  'Frosinone Calcio (2013)',\n",
              "  'Parma F. C. (2013-2015)',\n",
              "  'N. D. Gorica (2013-2014)',\n",
              "  'Teramo Calcio (2014-2015)',\n",
              "  'Delfino Pescara 1936 (2015-2016)',\n",
              "  'A. C. Milan (2016-2018)',\n",
              "  'Genoa C. F. C. (2017-2018)',\n",
              "  'Genoa C. F. C. (2018-2020)',\n",
              "  'U. S. Lecce (2019-2020)',\n",
              "  'Benevento Calcio (2020-Act.)']}"
            ]
          },
          "metadata": {
            "tags": []
          },
          "execution_count": 49
        }
      ]
    },
    {
      "cell_type": "markdown",
      "metadata": {
        "id": "WFRDELOecjJu"
      },
      "source": [
        "### Laboratorio 02\n",
        "\n",
        "Escribir un programa que reciba el siguiente texto y muestre:\n",
        "* Cantidad de palabras distintas\n",
        "* Frecuencia de cada palabra encontrada\n",
        "\n",
        "`Un texto narrativo es aquel texto que cuenta una historia que se desarrolla en un período de tiempo y un lugar determinado. La narración hace referencia a la manera de contar la historia, en forma de secuencia o como una serie de acciones que realizan los personajes, y que permite al lector imaginarse la situación.`\n",
        "\n",
        "Referencia: https://github.com/juansalinasponce/course_python/blob/main/Sesion_04/Sesi%C3%B3n04_FDP_OG7_Fechas_String.ipynb"
      ]
    },
    {
      "cell_type": "code",
      "metadata": {
        "id": "TInRFIOBdpn6",
        "colab": {
          "base_uri": "https://localhost:8080/"
        },
        "outputId": "29051de4-31d4-4b53-9eda-753bc8cc57b1"
      },
      "source": [
        "#Desarrolla Aquí tu código\n",
        "print(\"Texto inicial:\")\n",
        "texto = 'Un texto narrativo es aquel texto que cuenta una historia que se desarrolla en un período de tiempo y un lugar determinado. La narración hace referencia a la manera de contar la historia, en forma de secuencia o como una serie de acciones que realizan los personajes, y que permite al lector imaginarse la situación.'\n",
        "print(f\"{texto}\\n\")   #Texto inicialmente\n",
        "texto = texto.replace('.', '')   #Quitamos los puntos del texto\n",
        "texto = texto.replace(',', '')   #Quitamos las comas del texto\n",
        "lista = texto.lower().split()    #Construimos una lista de las palabras en minúscula (homogenizamos texto)\n",
        "\n",
        "lista_sin_duplicado = []\n",
        "frecuencia = []\n",
        "for i in lista:\n",
        "  if i not in lista_sin_duplicado:\n",
        "    lista_sin_duplicado.append(i)\n",
        "    frecuencia.append(lista.count(i))\n",
        "\n",
        "print(f\"*Cantidad de palabras distintas        : {len(lista_sin_duplicado)}\")\n",
        "print(f\"*Frecuencia de cada palabra encontrada :\")\n",
        "print(list(zip(lista_sin_duplicado,frecuencia)))   #Frecuencia de cada palabra encontrada"
      ],
      "execution_count": null,
      "outputs": [
        {
          "output_type": "stream",
          "text": [
            "Texto inicial:\n",
            "Un texto narrativo es aquel texto que cuenta una historia que se desarrolla en un período de tiempo y un lugar determinado. La narración hace referencia a la manera de contar la historia, en forma de secuencia o como una serie de acciones que realizan los personajes, y que permite al lector imaginarse la situación.\n",
            "\n",
            "*Cantidad de palabras distintas        : 39\n",
            "*Frecuencia de cada palabra encontrada :\n",
            "[('un', 3), ('texto', 2), ('narrativo', 1), ('es', 1), ('aquel', 1), ('que', 4), ('cuenta', 1), ('una', 2), ('historia', 2), ('se', 1), ('desarrolla', 1), ('en', 2), ('período', 1), ('de', 4), ('tiempo', 1), ('y', 2), ('lugar', 1), ('determinado', 1), ('la', 4), ('narración', 1), ('hace', 1), ('referencia', 1), ('a', 1), ('manera', 1), ('contar', 1), ('forma', 1), ('secuencia', 1), ('o', 1), ('como', 1), ('serie', 1), ('acciones', 1), ('realizan', 1), ('los', 1), ('personajes', 1), ('permite', 1), ('al', 1), ('lector', 1), ('imaginarse', 1), ('situación', 1)]\n"
          ],
          "name": "stdout"
        }
      ]
    },
    {
      "cell_type": "markdown",
      "metadata": {
        "id": "n44cHsbseD1G"
      },
      "source": [
        "### Laboratorio 03\n",
        "\n",
        "Considere el siguiente diccionario data y lista de index\n",
        "\n",
        "a. Crea un DataFrame a partir del diccionario y los índices.\n",
        "\n",
        "b. Selecciona las columnas animaly age.\n",
        "\n",
        "c. Indique cuantos tipos distintos de animales hay.\n",
        "\n",
        "d. Indique cuantos animales hay de cada tipo.\n",
        "\n",
        "e. Muestre un resumen estadístico de todas las variables.\n"
      ]
    },
    {
      "cell_type": "code",
      "metadata": {
        "id": "oKJXKf47ebZv"
      },
      "source": [
        "#Desarrolle su código\n",
        "data = {'animal': ['cat', 'cat', 'snake', 'dog', 'dog', 'cat', 'snake', 'cat', 'dog', 'dog'],\n",
        "        'age': [2.5, 3, 0.5, np.nan, 5, 2, 4.5, np.nan, 7, 3],\n",
        "        'visits': [1, 3, 2, 3, 2, 3, 1, 1, 2, 1],\n",
        "        'priority': ['yes', 'yes', 'no', 'yes', 'no', 'no', 'no', 'yes', 'no', 'no']}\n",
        "\n",
        "labels = ['a', 'b', 'c', 'd', 'e', 'f', 'g', 'h', 'i', 'j']"
      ],
      "execution_count": null,
      "outputs": []
    },
    {
      "cell_type": "markdown",
      "metadata": {
        "id": "AS2R92wUgmQt"
      },
      "source": [
        "\n",
        "\n",
        "# **Solución:**"
      ]
    },
    {
      "cell_type": "code",
      "metadata": {
        "id": "Jx-v46qufecX",
        "colab": {
          "base_uri": "https://localhost:8080/",
          "height": 359
        },
        "outputId": "d9f87a3d-a336-41b2-9898-2b3c0a01ebc9"
      },
      "source": [
        "#a. Crea un DataFrame a partir del diccionario y los índices.\n",
        "import pandas as pd\n",
        "tabla=pd.DataFrame(data,labels)\n",
        "tabla"
      ],
      "execution_count": null,
      "outputs": [
        {
          "output_type": "execute_result",
          "data": {
            "text/html": [
              "<div>\n",
              "<style scoped>\n",
              "    .dataframe tbody tr th:only-of-type {\n",
              "        vertical-align: middle;\n",
              "    }\n",
              "\n",
              "    .dataframe tbody tr th {\n",
              "        vertical-align: top;\n",
              "    }\n",
              "\n",
              "    .dataframe thead th {\n",
              "        text-align: right;\n",
              "    }\n",
              "</style>\n",
              "<table border=\"1\" class=\"dataframe\">\n",
              "  <thead>\n",
              "    <tr style=\"text-align: right;\">\n",
              "      <th></th>\n",
              "      <th>animal</th>\n",
              "      <th>age</th>\n",
              "      <th>visits</th>\n",
              "      <th>priority</th>\n",
              "    </tr>\n",
              "  </thead>\n",
              "  <tbody>\n",
              "    <tr>\n",
              "      <th>a</th>\n",
              "      <td>cat</td>\n",
              "      <td>2.5</td>\n",
              "      <td>1</td>\n",
              "      <td>yes</td>\n",
              "    </tr>\n",
              "    <tr>\n",
              "      <th>b</th>\n",
              "      <td>cat</td>\n",
              "      <td>3.0</td>\n",
              "      <td>3</td>\n",
              "      <td>yes</td>\n",
              "    </tr>\n",
              "    <tr>\n",
              "      <th>c</th>\n",
              "      <td>snake</td>\n",
              "      <td>0.5</td>\n",
              "      <td>2</td>\n",
              "      <td>no</td>\n",
              "    </tr>\n",
              "    <tr>\n",
              "      <th>d</th>\n",
              "      <td>dog</td>\n",
              "      <td>NaN</td>\n",
              "      <td>3</td>\n",
              "      <td>yes</td>\n",
              "    </tr>\n",
              "    <tr>\n",
              "      <th>e</th>\n",
              "      <td>dog</td>\n",
              "      <td>5.0</td>\n",
              "      <td>2</td>\n",
              "      <td>no</td>\n",
              "    </tr>\n",
              "    <tr>\n",
              "      <th>f</th>\n",
              "      <td>cat</td>\n",
              "      <td>2.0</td>\n",
              "      <td>3</td>\n",
              "      <td>no</td>\n",
              "    </tr>\n",
              "    <tr>\n",
              "      <th>g</th>\n",
              "      <td>snake</td>\n",
              "      <td>4.5</td>\n",
              "      <td>1</td>\n",
              "      <td>no</td>\n",
              "    </tr>\n",
              "    <tr>\n",
              "      <th>h</th>\n",
              "      <td>cat</td>\n",
              "      <td>NaN</td>\n",
              "      <td>1</td>\n",
              "      <td>yes</td>\n",
              "    </tr>\n",
              "    <tr>\n",
              "      <th>i</th>\n",
              "      <td>dog</td>\n",
              "      <td>7.0</td>\n",
              "      <td>2</td>\n",
              "      <td>no</td>\n",
              "    </tr>\n",
              "    <tr>\n",
              "      <th>j</th>\n",
              "      <td>dog</td>\n",
              "      <td>3.0</td>\n",
              "      <td>1</td>\n",
              "      <td>no</td>\n",
              "    </tr>\n",
              "  </tbody>\n",
              "</table>\n",
              "</div>"
            ],
            "text/plain": [
              "  animal  age  visits priority\n",
              "a    cat  2.5       1      yes\n",
              "b    cat  3.0       3      yes\n",
              "c  snake  0.5       2       no\n",
              "d    dog  NaN       3      yes\n",
              "e    dog  5.0       2       no\n",
              "f    cat  2.0       3       no\n",
              "g  snake  4.5       1       no\n",
              "h    cat  NaN       1      yes\n",
              "i    dog  7.0       2       no\n",
              "j    dog  3.0       1       no"
            ]
          },
          "metadata": {
            "tags": []
          },
          "execution_count": 37
        }
      ]
    },
    {
      "cell_type": "code",
      "metadata": {
        "id": "CXOcxceOf6-h",
        "colab": {
          "base_uri": "https://localhost:8080/",
          "height": 359
        },
        "outputId": "fa866c2c-7c33-4ef2-dd6a-5d3fbe4f9a9f"
      },
      "source": [
        "#b. Selecciona las columnas animaly age.\n",
        "tabla[['animal','age']]"
      ],
      "execution_count": null,
      "outputs": [
        {
          "output_type": "execute_result",
          "data": {
            "text/html": [
              "<div>\n",
              "<style scoped>\n",
              "    .dataframe tbody tr th:only-of-type {\n",
              "        vertical-align: middle;\n",
              "    }\n",
              "\n",
              "    .dataframe tbody tr th {\n",
              "        vertical-align: top;\n",
              "    }\n",
              "\n",
              "    .dataframe thead th {\n",
              "        text-align: right;\n",
              "    }\n",
              "</style>\n",
              "<table border=\"1\" class=\"dataframe\">\n",
              "  <thead>\n",
              "    <tr style=\"text-align: right;\">\n",
              "      <th></th>\n",
              "      <th>animal</th>\n",
              "      <th>age</th>\n",
              "    </tr>\n",
              "  </thead>\n",
              "  <tbody>\n",
              "    <tr>\n",
              "      <th>a</th>\n",
              "      <td>cat</td>\n",
              "      <td>2.5</td>\n",
              "    </tr>\n",
              "    <tr>\n",
              "      <th>b</th>\n",
              "      <td>cat</td>\n",
              "      <td>3.0</td>\n",
              "    </tr>\n",
              "    <tr>\n",
              "      <th>c</th>\n",
              "      <td>snake</td>\n",
              "      <td>0.5</td>\n",
              "    </tr>\n",
              "    <tr>\n",
              "      <th>d</th>\n",
              "      <td>dog</td>\n",
              "      <td>NaN</td>\n",
              "    </tr>\n",
              "    <tr>\n",
              "      <th>e</th>\n",
              "      <td>dog</td>\n",
              "      <td>5.0</td>\n",
              "    </tr>\n",
              "    <tr>\n",
              "      <th>f</th>\n",
              "      <td>cat</td>\n",
              "      <td>2.0</td>\n",
              "    </tr>\n",
              "    <tr>\n",
              "      <th>g</th>\n",
              "      <td>snake</td>\n",
              "      <td>4.5</td>\n",
              "    </tr>\n",
              "    <tr>\n",
              "      <th>h</th>\n",
              "      <td>cat</td>\n",
              "      <td>NaN</td>\n",
              "    </tr>\n",
              "    <tr>\n",
              "      <th>i</th>\n",
              "      <td>dog</td>\n",
              "      <td>7.0</td>\n",
              "    </tr>\n",
              "    <tr>\n",
              "      <th>j</th>\n",
              "      <td>dog</td>\n",
              "      <td>3.0</td>\n",
              "    </tr>\n",
              "  </tbody>\n",
              "</table>\n",
              "</div>"
            ],
            "text/plain": [
              "  animal  age\n",
              "a    cat  2.5\n",
              "b    cat  3.0\n",
              "c  snake  0.5\n",
              "d    dog  NaN\n",
              "e    dog  5.0\n",
              "f    cat  2.0\n",
              "g  snake  4.5\n",
              "h    cat  NaN\n",
              "i    dog  7.0\n",
              "j    dog  3.0"
            ]
          },
          "metadata": {
            "tags": []
          },
          "execution_count": 38
        }
      ]
    },
    {
      "cell_type": "code",
      "metadata": {
        "id": "2dwRBjQRgGVz",
        "colab": {
          "base_uri": "https://localhost:8080/"
        },
        "outputId": "6712baf2-1693-40d7-f295-4055deff2c19"
      },
      "source": [
        "#c. Indique cuantos tipos distintos de animales hay.\n",
        "tabla[['animal']].nunique()"
      ],
      "execution_count": null,
      "outputs": [
        {
          "output_type": "execute_result",
          "data": {
            "text/plain": [
              "animal    3\n",
              "dtype: int64"
            ]
          },
          "metadata": {
            "tags": []
          },
          "execution_count": 39
        }
      ]
    },
    {
      "cell_type": "code",
      "metadata": {
        "id": "EkLEsySag8SD",
        "colab": {
          "base_uri": "https://localhost:8080/"
        },
        "outputId": "9b021f8d-72b0-4933-b3f2-020ced625273"
      },
      "source": [
        "#d. Indique cuantos animales hay de cada tipo.\n",
        "tabla[['animal']].value_counts()"
      ],
      "execution_count": null,
      "outputs": [
        {
          "output_type": "execute_result",
          "data": {
            "text/plain": [
              "animal\n",
              "dog       4\n",
              "cat       4\n",
              "snake     2\n",
              "dtype: int64"
            ]
          },
          "metadata": {
            "tags": []
          },
          "execution_count": 45
        }
      ]
    },
    {
      "cell_type": "code",
      "metadata": {
        "id": "PUA5F4Azh5gr",
        "colab": {
          "base_uri": "https://localhost:8080/",
          "height": 390
        },
        "outputId": "9affef04-4d7e-470f-84fc-ed39cdfa5ff1"
      },
      "source": [
        "#e. Muestre un resumen estadístico de todas las variables.\n",
        "tabla.describe(include='all')"
      ],
      "execution_count": null,
      "outputs": [
        {
          "output_type": "execute_result",
          "data": {
            "text/html": [
              "<div>\n",
              "<style scoped>\n",
              "    .dataframe tbody tr th:only-of-type {\n",
              "        vertical-align: middle;\n",
              "    }\n",
              "\n",
              "    .dataframe tbody tr th {\n",
              "        vertical-align: top;\n",
              "    }\n",
              "\n",
              "    .dataframe thead th {\n",
              "        text-align: right;\n",
              "    }\n",
              "</style>\n",
              "<table border=\"1\" class=\"dataframe\">\n",
              "  <thead>\n",
              "    <tr style=\"text-align: right;\">\n",
              "      <th></th>\n",
              "      <th>animal</th>\n",
              "      <th>age</th>\n",
              "      <th>visits</th>\n",
              "      <th>priority</th>\n",
              "    </tr>\n",
              "  </thead>\n",
              "  <tbody>\n",
              "    <tr>\n",
              "      <th>count</th>\n",
              "      <td>10</td>\n",
              "      <td>8.000000</td>\n",
              "      <td>10.000000</td>\n",
              "      <td>10</td>\n",
              "    </tr>\n",
              "    <tr>\n",
              "      <th>unique</th>\n",
              "      <td>3</td>\n",
              "      <td>NaN</td>\n",
              "      <td>NaN</td>\n",
              "      <td>2</td>\n",
              "    </tr>\n",
              "    <tr>\n",
              "      <th>top</th>\n",
              "      <td>dog</td>\n",
              "      <td>NaN</td>\n",
              "      <td>NaN</td>\n",
              "      <td>no</td>\n",
              "    </tr>\n",
              "    <tr>\n",
              "      <th>freq</th>\n",
              "      <td>4</td>\n",
              "      <td>NaN</td>\n",
              "      <td>NaN</td>\n",
              "      <td>6</td>\n",
              "    </tr>\n",
              "    <tr>\n",
              "      <th>mean</th>\n",
              "      <td>NaN</td>\n",
              "      <td>3.437500</td>\n",
              "      <td>1.900000</td>\n",
              "      <td>NaN</td>\n",
              "    </tr>\n",
              "    <tr>\n",
              "      <th>std</th>\n",
              "      <td>NaN</td>\n",
              "      <td>2.007797</td>\n",
              "      <td>0.875595</td>\n",
              "      <td>NaN</td>\n",
              "    </tr>\n",
              "    <tr>\n",
              "      <th>min</th>\n",
              "      <td>NaN</td>\n",
              "      <td>0.500000</td>\n",
              "      <td>1.000000</td>\n",
              "      <td>NaN</td>\n",
              "    </tr>\n",
              "    <tr>\n",
              "      <th>25%</th>\n",
              "      <td>NaN</td>\n",
              "      <td>2.375000</td>\n",
              "      <td>1.000000</td>\n",
              "      <td>NaN</td>\n",
              "    </tr>\n",
              "    <tr>\n",
              "      <th>50%</th>\n",
              "      <td>NaN</td>\n",
              "      <td>3.000000</td>\n",
              "      <td>2.000000</td>\n",
              "      <td>NaN</td>\n",
              "    </tr>\n",
              "    <tr>\n",
              "      <th>75%</th>\n",
              "      <td>NaN</td>\n",
              "      <td>4.625000</td>\n",
              "      <td>2.750000</td>\n",
              "      <td>NaN</td>\n",
              "    </tr>\n",
              "    <tr>\n",
              "      <th>max</th>\n",
              "      <td>NaN</td>\n",
              "      <td>7.000000</td>\n",
              "      <td>3.000000</td>\n",
              "      <td>NaN</td>\n",
              "    </tr>\n",
              "  </tbody>\n",
              "</table>\n",
              "</div>"
            ],
            "text/plain": [
              "       animal       age     visits priority\n",
              "count      10  8.000000  10.000000       10\n",
              "unique      3       NaN        NaN        2\n",
              "top       dog       NaN        NaN       no\n",
              "freq        4       NaN        NaN        6\n",
              "mean      NaN  3.437500   1.900000      NaN\n",
              "std       NaN  2.007797   0.875595      NaN\n",
              "min       NaN  0.500000   1.000000      NaN\n",
              "25%       NaN  2.375000   1.000000      NaN\n",
              "50%       NaN  3.000000   2.000000      NaN\n",
              "75%       NaN  4.625000   2.750000      NaN\n",
              "max       NaN  7.000000   3.000000      NaN"
            ]
          },
          "metadata": {
            "tags": []
          },
          "execution_count": 46
        }
      ]
    }
  ]
}