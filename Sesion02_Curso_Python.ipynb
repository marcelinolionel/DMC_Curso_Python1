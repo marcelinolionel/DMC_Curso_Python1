{
  "nbformat": 4,
  "nbformat_minor": 0,
  "metadata": {
    "colab": {
      "name": "Sesion02-Curso_Python.ipynb",
      "provenance": [],
      "authorship_tag": "ABX9TyM1wrXCx6D7DuRKBuJi05ta",
      "include_colab_link": true
    },
    "kernelspec": {
      "name": "python3",
      "display_name": "Python 3"
    }
  },
  "cells": [
    {
      "cell_type": "markdown",
      "metadata": {
        "id": "view-in-github",
        "colab_type": "text"
      },
      "source": [
        "<a href=\"https://colab.research.google.com/github/marcelinolionel/DMC_Curso_Python1/blob/main/Sesion02_Curso_Python.ipynb\" target=\"_parent\"><img src=\"https://colab.research.google.com/assets/colab-badge.svg\" alt=\"Open In Colab\"/></a>"
      ]
    },
    {
      "cell_type": "code",
      "metadata": {
        "id": "EYDAA80UwWU-",
        "outputId": "faf7551c-7be9-47b0-a5d1-f67faa087eeb",
        "colab": {
          "base_uri": "https://localhost:8080/"
        }
      },
      "source": [
        "#variable\n",
        "nombres = 'Juan'\n",
        "print(type(nombres))\n",
        "x = 9\n",
        "print(x)\n",
        "x = 9\n",
        "print(type(x))   "
      ],
      "execution_count": 9,
      "outputs": [
        {
          "output_type": "stream",
          "text": [
            "<class 'str'>\n",
            "9\n",
            "<class 'int'>\n"
          ],
          "name": "stdout"
        }
      ]
    },
    {
      "cell_type": "code",
      "metadata": {
        "id": "9Ubb1dAOyNkM",
        "outputId": "b3078449-5cd3-4d55-f9f2-b66248c2b2f8",
        "colab": {
          "base_uri": "https://localhost:8080/"
        }
      },
      "source": [
        "nombres = 'Marcelino Lionel'\n",
        "apellidos = 'Martínez Chávez'\n",
        "edad = 34\n",
        "print(\"Tu enombres es:\", nombres,\" Tu apellido es:\", apellidos, \" Tu edad es:\", edad)"
      ],
      "execution_count": 15,
      "outputs": [
        {
          "output_type": "stream",
          "text": [
            "Tu enombres es: Marcelino Lionel  Tu apellido es: Martínez Chávez  Tu edad es: 34\n"
          ],
          "name": "stdout"
        }
      ]
    },
    {
      "cell_type": "code",
      "metadata": {
        "id": "_cfZVZqQzS_r",
        "outputId": "900e4a94-14bf-454a-8529-a54743a627b9",
        "colab": {
          "base_uri": "https://localhost:8080/"
        }
      },
      "source": [
        "b1 = \"True\"\n",
        "b2 = bool(\"True\")\n",
        "b3 = False\n",
        "type(b1)"
      ],
      "execution_count": 21,
      "outputs": [
        {
          "output_type": "execute_result",
          "data": {
            "text/plain": [
              "str"
            ]
          },
          "metadata": {
            "tags": []
          },
          "execution_count": 21
        }
      ]
    },
    {
      "cell_type": "code",
      "metadata": {
        "id": "6Qa1g-UE5x5l",
        "outputId": "e5a72494-be77-40db-fab2-2e15d44f7c2a",
        "colab": {
          "base_uri": "https://localhost:8080/"
        }
      },
      "source": [
        "num_entero = 8\n",
        "print(type(num_entero))"
      ],
      "execution_count": 22,
      "outputs": [
        {
          "output_type": "stream",
          "text": [
            "<class 'int'>\n"
          ],
          "name": "stdout"
        }
      ]
    },
    {
      "cell_type": "code",
      "metadata": {
        "id": "oKe0nUMq6BGM",
        "outputId": "0526abad-bb23-4d97-94da-8c25132d0f53",
        "colab": {
          "base_uri": "https://localhost:8080/"
        }
      },
      "source": [
        "num_entero = -100\n",
        "print(type(num_entero))"
      ],
      "execution_count": 23,
      "outputs": [
        {
          "output_type": "stream",
          "text": [
            "<class 'int'>\n"
          ],
          "name": "stdout"
        }
      ]
    },
    {
      "cell_type": "code",
      "metadata": {
        "id": "JQjsIDpx6RtX",
        "outputId": "e1556e35-1d6a-4b78-d4a5-80ab87258bad",
        "colab": {
          "base_uri": "https://localhost:8080/"
        }
      },
      "source": [
        "num_real = 4.5\n",
        "print(type(num_real))"
      ],
      "execution_count": 24,
      "outputs": [
        {
          "output_type": "stream",
          "text": [
            "<class 'float'>\n"
          ],
          "name": "stdout"
        }
      ]
    },
    {
      "cell_type": "code",
      "metadata": {
        "id": "bdMufmN96lLZ",
        "outputId": "93638a24-5d59-4f48-fb1e-ac948b8f2cee",
        "colab": {
          "base_uri": "https://localhost:8080/"
        }
      },
      "source": [
        "#otra manera de expresar un número real es:\n",
        "num_real = 0.5e-7\n",
        "print(type(num_real))"
      ],
      "execution_count": 26,
      "outputs": [
        {
          "output_type": "stream",
          "text": [
            "<class 'float'>\n"
          ],
          "name": "stdout"
        }
      ]
    },
    {
      "cell_type": "code",
      "metadata": {
        "id": "-kQL87iI6s2j",
        "outputId": "b22e6805-dc20-4797-bff4-c470d3b7cd40",
        "colab": {
          "base_uri": "https://localhost:8080/"
        }
      },
      "source": [
        "\n",
        "#números formados por una parte real y otra imaginaria\n",
        "num_complejo = 3.2 + 7j\n",
        "print(type(num_complejo))"
      ],
      "execution_count": 27,
      "outputs": [
        {
          "output_type": "stream",
          "text": [
            "<class 'complex'>\n"
          ],
          "name": "stdout"
        }
      ]
    },
    {
      "cell_type": "code",
      "metadata": {
        "id": "Zd9ut3G962cJ",
        "outputId": "dbc5c1b9-c877-435c-b02b-e23fc713535e",
        "colab": {
          "base_uri": "https://localhost:8080/"
        }
      },
      "source": [
        "num_real = 1/2\n",
        "print(type(num_real))"
      ],
      "execution_count": 28,
      "outputs": [
        {
          "output_type": "stream",
          "text": [
            "<class 'float'>\n"
          ],
          "name": "stdout"
        }
      ]
    },
    {
      "cell_type": "code",
      "metadata": {
        "id": "cduhorAd7JjQ",
        "outputId": "85b7b236-fba6-4c14-db65-23ce11d74801",
        "colab": {
          "base_uri": "https://localhost:8080/"
        }
      },
      "source": [
        "#el número 7 en binario se representa de la siguiente forma:\n",
        "num_binario = 0b111\n",
        "print(type(num_binario))"
      ],
      "execution_count": 30,
      "outputs": [
        {
          "output_type": "stream",
          "text": [
            "<class 'int'>\n"
          ],
          "name": "stdout"
        }
      ]
    },
    {
      "cell_type": "code",
      "metadata": {
        "id": "9LbINv2T7beO",
        "outputId": "55733060-6755-4e4b-c1ec-0aa9cd69ad08",
        "colab": {
          "base_uri": "https://localhost:8080/"
        }
      },
      "source": [
        "#el número 9 en binario se representa de la siguiente forma:\n",
        "num_binario = 0b1001\n",
        "print(type(num_binario))\n",
        "print(num_binario)"
      ],
      "execution_count": 32,
      "outputs": [
        {
          "output_type": "stream",
          "text": [
            "<class 'int'>\n",
            "9\n"
          ],
          "name": "stdout"
        }
      ]
    },
    {
      "cell_type": "code",
      "metadata": {
        "id": "31txZtIw7pfv",
        "outputId": "fc327488-4544-48da-9a17-73b00294e059",
        "colab": {
          "base_uri": "https://localhost:8080/"
        }
      },
      "source": [
        "\n",
        "#el número 8 en octak se representa de la siguiente forma:\n",
        "num_octal = 0o10\n",
        "print(type(num_octal))"
      ],
      "execution_count": 33,
      "outputs": [
        {
          "output_type": "stream",
          "text": [
            "<class 'int'>\n"
          ],
          "name": "stdout"
        }
      ]
    },
    {
      "cell_type": "code",
      "metadata": {
        "id": "-R3NdREc706s",
        "outputId": "7340cb01-8af8-48b6-99c1-4bdcd9dae4a5",
        "colab": {
          "base_uri": "https://localhost:8080/"
        }
      },
      "source": [
        "\n",
        "#el número 255 en el sistema hexadecimal se representa de la siguiente forma:\n",
        "num_hex = 0xff\n",
        "print(type(num_hex))"
      ],
      "execution_count": 34,
      "outputs": [
        {
          "output_type": "stream",
          "text": [
            "<class 'int'>\n"
          ],
          "name": "stdout"
        }
      ]
    },
    {
      "cell_type": "code",
      "metadata": {
        "id": "PSLzJOeL8BmJ",
        "outputId": "4d35c330-fa38-4ba1-ee1d-aca376a0f972",
        "colab": {
          "base_uri": "https://localhost:8080/"
        }
      },
      "source": [
        "cadena = \"esto es una cadena de texto\"\n",
        "print(type(cadena))\n",
        "print(cadena)"
      ],
      "execution_count": 36,
      "outputs": [
        {
          "output_type": "stream",
          "text": [
            "<class 'str'>\n",
            "esto es una cadena de texto\n"
          ],
          "name": "stdout"
        }
      ]
    },
    {
      "cell_type": "code",
      "metadata": {
        "id": "YcLAAHEY-G9B",
        "outputId": "1ec84367-0914-4875-b406-29106df1669a",
        "colab": {
          "base_uri": "https://localhost:8080/"
        }
      },
      "source": [
        "lat = bytearray(\"España\", \"latin1\")\n",
        "print(lat)"
      ],
      "execution_count": 37,
      "outputs": [
        {
          "output_type": "stream",
          "text": [
            "bytearray(b'Espa\\xf1a')\n"
          ],
          "name": "stdout"
        }
      ]
    },
    {
      "cell_type": "code",
      "metadata": {
        "id": "2HOxRYwB-LID",
        "outputId": "8b965797-82cb-446e-92f7-97e068ca4fea",
        "colab": {
          "base_uri": "https://localhost:8080/"
        }
      },
      "source": [
        "str = \"España\"\n",
        "array1 = bytearray(str, 'utf-8') \n",
        "print(array1)"
      ],
      "execution_count": 38,
      "outputs": [
        {
          "output_type": "stream",
          "text": [
            "bytearray(b'Espa\\xc3\\xb1a')\n"
          ],
          "name": "stdout"
        }
      ]
    },
    {
      "cell_type": "code",
      "metadata": {
        "id": "xPSqFMrr-Otp",
        "outputId": "f0307f99-e81d-4b3e-fd7f-a900caf2df8a",
        "colab": {
          "base_uri": "https://localhost:8080/"
        }
      },
      "source": [
        "bytearray(\"España\", \"utf16\")"
      ],
      "execution_count": 39,
      "outputs": [
        {
          "output_type": "execute_result",
          "data": {
            "text/plain": [
              "bytearray(b'\\xff\\xfeE\\x00s\\x00p\\x00a\\x00\\xf1\\x00a\\x00')"
            ]
          },
          "metadata": {
            "tags": []
          },
          "execution_count": 39
        }
      ]
    },
    {
      "cell_type": "code",
      "metadata": {
        "id": "Pmeqx-O0-b9-",
        "outputId": "294bdf38-64fb-4372-f6af-58c96c8d3496",
        "colab": {
          "base_uri": "https://localhost:8080/"
        }
      },
      "source": [
        "#encode(): transforma un tipo str en tipo byte\n",
        "bytearray(\"España\", \"utf16\")"
      ],
      "execution_count": 41,
      "outputs": [
        {
          "output_type": "execute_result",
          "data": {
            "text/plain": [
              "bytearray(b'\\xff\\xfeE\\x00s\\x00p\\x00a\\x00\\xf1\\x00a\\x00')"
            ]
          },
          "metadata": {
            "tags": []
          },
          "execution_count": 41
        }
      ]
    },
    {
      "cell_type": "code",
      "metadata": {
        "id": "G_xhn2X-_9Dz",
        "outputId": "53c7050f-13ad-4ae5-b098-3f76e6fa0346",
        "colab": {
          "base_uri": "https://localhost:8080/",
          "height": 35
        }
      },
      "source": [
        "#Lista\n",
        "Estudiante=[]\n",
        "Estudiante=[\"Manuel Ponte\",23,\"False\"]\n",
        "Estudiante"
      ],
      "execution_count": 45,
      "outputs": [
        {
          "output_type": "execute_result",
          "data": {
            "application/vnd.google.colaboratory.intrinsic+json": {
              "type": "string"
            },
            "text/plain": [
              "'Manuel Ponte'"
            ]
          },
          "metadata": {
            "tags": []
          },
          "execution_count": 45
        }
      ]
    },
    {
      "cell_type": "code",
      "metadata": {
        "id": "Nm1XbmPzBqtv",
        "outputId": "2acfca3f-2e5f-4241-d08b-19e0d8b07a85",
        "colab": {
          "base_uri": "https://localhost:8080/",
          "height": 35
        }
      },
      "source": [
        "Estudiante[0] # primer elemento comienza con indice '0'"
      ],
      "execution_count": 46,
      "outputs": [
        {
          "output_type": "execute_result",
          "data": {
            "application/vnd.google.colaboratory.intrinsic+json": {
              "type": "string"
            },
            "text/plain": [
              "'Manuel Ponte'"
            ]
          },
          "metadata": {
            "tags": []
          },
          "execution_count": 46
        }
      ]
    },
    {
      "cell_type": "code",
      "metadata": {
        "id": "AeB7fdXoBuiE",
        "outputId": "4499d4b5-6df9-4491-cf41-439e2f19350e",
        "colab": {
          "base_uri": "https://localhost:8080/"
        }
      },
      "source": [
        "Estudiante[:2] # todo antes de índice 2 ó [0:2]"
      ],
      "execution_count": 52,
      "outputs": [
        {
          "output_type": "execute_result",
          "data": {
            "text/plain": [
              "['Manuel Ponte', 23]"
            ]
          },
          "metadata": {
            "tags": []
          },
          "execution_count": 52
        }
      ]
    },
    {
      "cell_type": "code",
      "metadata": {
        "id": "Sc4YaqsDB0tt",
        "outputId": "d10f8a89-8b52-443e-f0fa-b281e232e9ed",
        "colab": {
          "base_uri": "https://localhost:8080/",
          "height": 35
        }
      },
      "source": [
        "Estudiante[-1] # ultimo elemento"
      ],
      "execution_count": 50,
      "outputs": [
        {
          "output_type": "execute_result",
          "data": {
            "application/vnd.google.colaboratory.intrinsic+json": {
              "type": "string"
            },
            "text/plain": [
              "'Manuel Ponte'"
            ]
          },
          "metadata": {
            "tags": []
          },
          "execution_count": 50
        }
      ]
    },
    {
      "cell_type": "code",
      "metadata": {
        "id": "R39U_Z1yCJNP",
        "outputId": "879a98c9-1d32-43bb-9bc7-2b4e4a04c4e1",
        "colab": {
          "base_uri": "https://localhost:8080/"
        }
      },
      "source": [
        "Estudiante[-2] # penúltimo elemento"
      ],
      "execution_count": 51,
      "outputs": [
        {
          "output_type": "execute_result",
          "data": {
            "text/plain": [
              "23"
            ]
          },
          "metadata": {
            "tags": []
          },
          "execution_count": 51
        }
      ]
    }
  ]
}