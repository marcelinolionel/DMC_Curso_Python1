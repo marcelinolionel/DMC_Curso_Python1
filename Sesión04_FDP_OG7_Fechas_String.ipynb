{
  "nbformat": 4,
  "nbformat_minor": 0,
  "metadata": {
    "colab": {
      "name": "Sesión04_FDP_OG7_Fechas_String.ipynb",
      "provenance": [],
      "collapsed_sections": [],
      "include_colab_link": true
    },
    "kernelspec": {
      "display_name": "Python 3",
      "language": "python",
      "name": "python3"
    },
    "language_info": {
      "codemirror_mode": {
        "name": "ipython",
        "version": 3
      },
      "file_extension": ".py",
      "mimetype": "text/x-python",
      "name": "python",
      "nbconvert_exporter": "python",
      "pygments_lexer": "ipython3",
      "version": "3.8.3"
    }
  },
  "cells": [
    {
      "cell_type": "markdown",
      "metadata": {
        "id": "view-in-github",
        "colab_type": "text"
      },
      "source": [
        "<a href=\"https://colab.research.google.com/github/marcelinolionel/DMC_Curso_Python1/blob/main/Sesi%C3%B3n04_FDP_OG7_Fechas_String.ipynb\" target=\"_parent\"><img src=\"https://colab.research.google.com/assets/colab-badge.svg\" alt=\"Open In Colab\"/></a>"
      ]
    },
    {
      "cell_type": "markdown",
      "metadata": {
        "id": "OlP0mwzPTj51"
      },
      "source": [
        " # Paquete Datetime"
      ]
    },
    {
      "cell_type": "markdown",
      "metadata": {
        "id": "yGOhOL6jTj52"
      },
      "source": [
        "### Importando el paquete datetime."
      ]
    },
    {
      "cell_type": "code",
      "metadata": {
        "id": "cMzO2WFxTj53"
      },
      "source": [
        "import datetime as dt"
      ],
      "execution_count": null,
      "outputs": []
    },
    {
      "cell_type": "markdown",
      "metadata": {
        "id": "kfealoxHTj6A"
      },
      "source": [
        "### Creando una variable de tiempo\n",
        "\n",
        "* Se necesitan los argumentos de hora, minuto, segundo y microsegundos\n",
        "* Si alguno no es brindado se completa con 0 por defecto."
      ]
    },
    {
      "cell_type": "code",
      "metadata": {
        "colab": {
          "base_uri": "https://localhost:8080/"
        },
        "id": "vL0DIciSTj6A",
        "outputId": "cf5d7caf-be40-436f-d623-1324a7b31846"
      },
      "source": [
        "print(dt.time(1), \"1 Hora\")\n",
        "\n",
        "print(dt.time(2, 30), \"2 Horas y 30 minutos\")\n",
        "\n",
        "print(dt.time(3, 45, 30), \"3 Horas, 45 minutos y 30 segundos\")"
      ],
      "execution_count": null,
      "outputs": [
        {
          "output_type": "stream",
          "text": [
            "01:00:00 1 Hora\n",
            "02:30:00 2 Horas y 30 minutos\n",
            "03:45:30 3 Horas, 45 minutos y 30 segundos\n"
          ],
          "name": "stdout"
        }
      ]
    },
    {
      "cell_type": "markdown",
      "metadata": {
        "id": "iL4XjeKaTj6E"
      },
      "source": [
        "### `dt.datetime.now` para obtener el datetime actual.   "
      ]
    },
    {
      "cell_type": "code",
      "metadata": {
        "colab": {
          "base_uri": "https://localhost:8080/"
        },
        "id": "OyLZPgc4Tj6E",
        "outputId": "3b2470e9-b400-4a96-9dee-9fb731ad66ac"
      },
      "source": [
        "now = dt.datetime.now()\n",
        "print(now)"
      ],
      "execution_count": null,
      "outputs": [
        {
          "output_type": "stream",
          "text": [
            "2020-11-22 03:53:26.843487\n"
          ],
          "name": "stdout"
        }
      ]
    },
    {
      "cell_type": "markdown",
      "metadata": {
        "id": "VYR7rc-dTj6J"
      },
      "source": [
        "Algunos atributos:"
      ]
    },
    {
      "cell_type": "code",
      "metadata": {
        "id": "FglSeAjWTj6K",
        "colab": {
          "base_uri": "https://localhost:8080/"
        },
        "outputId": "2bfee623-c892-4c29-d13a-eaeab3caf183"
      },
      "source": [
        "print(\"Fecha\\n\")\n",
        "print(\"El año actual es:\", now.year)\n",
        "print(\"El mes actual es:\", now.month)\n",
        "print(\"El día actual es:\", now.day)\n",
        "\n",
        "print(\"\\nTiempo\\n\")\n",
        "print(\"La hora actual es:   \", now.hour)\n",
        "print(\"El minuto actual es: \", now.minute)\n",
        "print(\"El segundo actual es:\", now.second)"
      ],
      "execution_count": null,
      "outputs": [
        {
          "output_type": "stream",
          "text": [
            "Fecha\n",
            "\n",
            "El año actual es: 2020\n",
            "El mes actual es: 11\n",
            "El día actual es: 21\n",
            "\n",
            "Tiempo\n",
            "\n",
            "La hora actual es:    19\n",
            "El minuto actual es:  24\n",
            "El segundo actual es: 32\n"
          ],
          "name": "stdout"
        }
      ]
    },
    {
      "cell_type": "markdown",
      "metadata": {
        "id": "pWquEnoXTj6W"
      },
      "source": [
        "Para crear un datetime en particular es necesario pasar los atributos de año, mes y día; los de tiempo son opcionales."
      ]
    },
    {
      "cell_type": "code",
      "metadata": {
        "colab": {
          "base_uri": "https://localhost:8080/"
        },
        "id": "hCn6RFvqTj6Y",
        "outputId": "aa79c1d4-2b08-4c95-a8e3-f0cd316a73ff"
      },
      "source": [
        "navidad_date = dt.datetime(2020, 12, 25)\n",
        "print(navidad_date)"
      ],
      "execution_count": null,
      "outputs": [
        {
          "output_type": "stream",
          "text": [
            "2020-12-25 00:00:00\n"
          ],
          "name": "stdout"
        }
      ]
    },
    {
      "cell_type": "code",
      "metadata": {
        "colab": {
          "base_uri": "https://localhost:8080/"
        },
        "id": "Ph2vhaaQTj6k",
        "outputId": "dee1bd00-e640-4830-c76c-89081fc73f6f"
      },
      "source": [
        "diff = navidad_date - now\n",
        "print(diff)"
      ],
      "execution_count": null,
      "outputs": [
        {
          "output_type": "stream",
          "text": [
            "32 days, 20:06:33.156513\n"
          ],
          "name": "stdout"
        }
      ]
    },
    {
      "cell_type": "code",
      "metadata": {
        "colab": {
          "base_uri": "https://localhost:8080/"
        },
        "id": "2RT7oB3hkcKk",
        "outputId": "961463ce-d515-4986-e379-690c86208677"
      },
      "source": [
        "type(diff)"
      ],
      "execution_count": null,
      "outputs": [
        {
          "output_type": "execute_result",
          "data": {
            "text/plain": [
              "datetime.timedelta"
            ]
          },
          "metadata": {
            "tags": []
          },
          "execution_count": 7
        }
      ]
    },
    {
      "cell_type": "markdown",
      "metadata": {
        "id": "yo3spnPUR-oq"
      },
      "source": [
        "## Calcular la edad de una persona"
      ]
    },
    {
      "cell_type": "code",
      "metadata": {
        "colab": {
          "base_uri": "https://localhost:8080/"
        },
        "id": "6P01U4eCRrag",
        "outputId": "ca656f5e-6f0b-4976-87bd-69a193064c89"
      },
      "source": [
        "#Hacer el caso tu edad\n",
        "hoy=dt.datetime.now()\n",
        "fecha_nacimiento=dt.datetime(1986,7,1)\n",
        "tiempo=hoy.year-fecha_nacimiento.year\n",
        "print(f\"Tienes {tiempo} años.\")\n",
        "\n",
        "tiempo2=dt.datetime.now()-dt.datetime(1986,7,1)\n",
        "print(tiempo2)"
      ],
      "execution_count": null,
      "outputs": [
        {
          "output_type": "stream",
          "text": [
            "Tienes 34 años.\n",
            "12563 days, 4:17:36.862679\n"
          ],
          "name": "stdout"
        }
      ]
    },
    {
      "cell_type": "markdown",
      "metadata": {
        "id": "Az_BFR5_gjb_"
      },
      "source": [
        "Podemos crear un objeto timedelta también y añadirlo a un datetime:"
      ]
    },
    {
      "cell_type": "code",
      "metadata": {
        "id": "PvcogWGMgjcC",
        "outputId": "5f92e4a0-dd8d-4227-aeea-a928a204d642"
      },
      "source": [
        "inc = dt.timedelta(days=45, hours=7)\n",
        "\n",
        "print(now)\n",
        "print(inc)\n",
        "print(now + inc)"
      ],
      "execution_count": null,
      "outputs": [
        {
          "output_type": "stream",
          "text": [
            "2020-11-15 07:13:27.237550\n",
            "45 days, 7:00:00\n",
            "2020-12-30 14:13:27.237550\n"
          ],
          "name": "stdout"
        }
      ]
    },
    {
      "cell_type": "markdown",
      "metadata": {
        "id": "g0i1g6xDTj6p"
      },
      "source": [
        "### String to Datetime:\n",
        "\n",
        "- %Y for year\n",
        "- %d for day\n",
        "- %m for month\n",
        "- %H for hour\n",
        "- %M for minute\n",
        "- %S for second"
      ]
    },
    {
      "cell_type": "code",
      "metadata": {
        "id": "ZQEp010FlEtI",
        "outputId": "7c8d0470-44b1-432a-cc42-be5e621dd854"
      },
      "source": [
        "str_date = \"18-07-1994\"\n",
        "str_date = dt.datetime.strptime(str_date,\"%d-%m-%Y\")\n",
        "print(str_date)"
      ],
      "execution_count": null,
      "outputs": [
        {
          "output_type": "stream",
          "text": [
            "1994-07-18 00:00:00\n"
          ],
          "name": "stdout"
        }
      ]
    },
    {
      "cell_type": "code",
      "metadata": {
        "id": "YP2K3zt0fwTO",
        "outputId": "7ffd7d10-eb67-4902-8cb6-13004ee0fb30"
      },
      "source": [
        "type(str_date)"
      ],
      "execution_count": null,
      "outputs": [
        {
          "output_type": "execute_result",
          "data": {
            "text/plain": [
              "datetime.datetime"
            ]
          },
          "metadata": {
            "tags": []
          },
          "execution_count": 11
        }
      ]
    },
    {
      "cell_type": "code",
      "metadata": {
        "id": "JJwIxCuYlRXa"
      },
      "source": [
        "str_date = \"07-18-1994\"\n",
        "print(type(str_date))   #Formato texto\n",
        "str_date = dt.datetime.strptime(str_date,\"%m-%d-%Y\")  #Se convierte la cadena de texto a un datetime\n",
        "print(str_date)\n",
        "print(type(str_date))   #Formato datetime"
      ],
      "execution_count": null,
      "outputs": []
    },
    {
      "cell_type": "code",
      "metadata": {
        "id": "mkpSPQ8Rfzap",
        "outputId": "7d1404c5-9842-468c-87c6-2ed97ac8fe91"
      },
      "source": [
        "type(str_date)"
      ],
      "execution_count": null,
      "outputs": [
        {
          "output_type": "execute_result",
          "data": {
            "text/plain": [
              "datetime.datetime"
            ]
          },
          "metadata": {
            "tags": []
          },
          "execution_count": 13
        }
      ]
    },
    {
      "cell_type": "markdown",
      "metadata": {
        "id": "UjWaIM9ITj6w"
      },
      "source": [
        "### Datetime to String:"
      ]
    },
    {
      "cell_type": "code",
      "metadata": {
        "id": "hGCf0nkUTj6w",
        "outputId": "3f4a111e-2751-401d-cd93-79954bc2eddb"
      },
      "source": [
        "date_str = dt.datetime.strftime(str_date, \"%Y-%m-%d %H:%M:%S\")\n",
        "print(date_str)"
      ],
      "execution_count": null,
      "outputs": [
        {
          "output_type": "stream",
          "text": [
            "1994-07-18 00:00:00\n"
          ],
          "name": "stdout"
        }
      ]
    },
    {
      "cell_type": "code",
      "metadata": {
        "id": "tExQWpEdf65k",
        "outputId": "2ad522c7-1bce-4a6c-dfde-81317ca5c9cb"
      },
      "source": [
        "type(date_str)"
      ],
      "execution_count": null,
      "outputs": [
        {
          "output_type": "execute_result",
          "data": {
            "text/plain": [
              "str"
            ]
          },
          "metadata": {
            "tags": []
          },
          "execution_count": 15
        }
      ]
    },
    {
      "cell_type": "markdown",
      "metadata": {
        "id": "YM7TUyaAXnLa"
      },
      "source": [
        "# Strings"
      ]
    },
    {
      "cell_type": "code",
      "metadata": {
        "id": "6sMEE_f_dUZK",
        "colab": {
          "base_uri": "https://localhost:8080/",
          "height": 35
        },
        "outputId": "c6e0d761-c5f9-44eb-e5c0-bdcaa21e36f8"
      },
      "source": [
        "#Ascii to Char\n",
        "\n",
        "chr(123)\n",
        "utf8"
      ],
      "execution_count": null,
      "outputs": [
        {
          "output_type": "execute_result",
          "data": {
            "application/vnd.google.colaboratory.intrinsic+json": {
              "type": "string"
            },
            "text/plain": [
              "'{'"
            ]
          },
          "metadata": {
            "tags": []
          },
          "execution_count": 20
        }
      ]
    },
    {
      "cell_type": "code",
      "metadata": {
        "id": "XKaMtB4UdUZK"
      },
      "source": [
        "#Char to Ascii\n",
        "\n",
        "ord('@')"
      ],
      "execution_count": null,
      "outputs": []
    },
    {
      "cell_type": "code",
      "metadata": {
        "id": "iXL4SS8ydUZK"
      },
      "source": [
        "#Creación de un string\n",
        "\n",
        "s1 = 'fundamentos de programación en Python.'"
      ],
      "execution_count": null,
      "outputs": []
    },
    {
      "cell_type": "code",
      "metadata": {
        "id": "Mx0lQOHxdUZK",
        "colab": {
          "base_uri": "https://localhost:8080/"
        },
        "outputId": "92565412-85db-4e35-c436-993b3251a097"
      },
      "source": [
        "#Pertenencia\n",
        "\n",
        "'de' in s1"
      ],
      "execution_count": null,
      "outputs": [
        {
          "output_type": "execute_result",
          "data": {
            "text/plain": [
              "True"
            ]
          },
          "metadata": {
            "tags": []
          },
          "execution_count": 25
        }
      ]
    },
    {
      "cell_type": "code",
      "metadata": {
        "id": "c0X49zhVdUZK"
      },
      "source": [
        "'Fundamentos' not in s1"
      ],
      "execution_count": null,
      "outputs": []
    },
    {
      "cell_type": "code",
      "metadata": {
        "id": "FFc9OYT1dUZK"
      },
      "source": [
        "#Longitud de un string\n",
        "\n",
        "len(s1)"
      ],
      "execution_count": null,
      "outputs": []
    },
    {
      "cell_type": "code",
      "metadata": {
        "id": "ch1Z6YhUdUZL",
        "colab": {
          "base_uri": "https://localhost:8080/"
        },
        "outputId": "45beb5c3-42de-4490-83d8-c91e08721882"
      },
      "source": [
        "#Acceso (Indexing - Slicing)\n",
        "print(s1)\n",
        "print(s1[0])\n",
        "print(s1[-1])\n",
        "print(s1[4:8])\n",
        "print(s1[::-1])\n",
        "\n",
        "str_date=\"09-12-1984\"\n",
        "dia=str_date[0:2]\n",
        "mes=str_date[3:5]\n",
        "año=str_date[6:10]\n",
        "print(dia)\n",
        "print(mes)\n",
        "print(año)"
      ],
      "execution_count": null,
      "outputs": [
        {
          "output_type": "stream",
          "text": [
            "fundamentos de programación en Python.\n",
            "f\n",
            ".\n",
            "amen\n",
            ".nohtyP ne nóicamargorp ed sotnemadnuf\n",
            "12\n",
            "09\n",
            "1984\n"
          ],
          "name": "stdout"
        }
      ]
    },
    {
      "cell_type": "code",
      "metadata": {
        "id": "vUnsiFl3dUZL",
        "outputId": "68393245-bde2-405d-ec39-999ab8c34707"
      },
      "source": [
        "#Insertar un salto de línea\n",
        "\n",
        "print('Primera línea\\nSegunda línea')"
      ],
      "execution_count": null,
      "outputs": [
        {
          "output_type": "stream",
          "text": [
            "Primera línea\n",
            "Segunda línea\n"
          ],
          "name": "stdout"
        }
      ]
    },
    {
      "cell_type": "code",
      "metadata": {
        "id": "LmLFyF53dUZL",
        "outputId": "d8b04a9d-d242-44ad-f86e-8133683c1698"
      },
      "source": [
        "#Insertar un tabulador\n",
        "print('Primera línea\\tSegunda línea')"
      ],
      "execution_count": null,
      "outputs": [
        {
          "output_type": "stream",
          "text": [
            "Primera línea\tSegunda línea\n"
          ],
          "name": "stdout"
        }
      ]
    },
    {
      "cell_type": "code",
      "metadata": {
        "id": "D9MT8uz2dUZL",
        "colab": {
          "base_uri": "https://localhost:8080/"
        },
        "outputId": "fb5d1a72-f49e-4655-b485-b32d90d24478"
      },
      "source": [
        "#Funciones de desplazamiento\n",
        "\n",
        "print('String centrado:')\n",
        "print(s1.center(50))\n",
        "print(s1.center(50, '_'))\n",
        "\n",
        "print('\\n\\nAlineado a la izquierda:')\n",
        "print(s1.ljust(50))\n",
        "print(s1.ljust(50, '<'))\n",
        "\n",
        "print('\\n\\nAlineado a la derecha:')\n",
        "print(s1.rjust(50))\n",
        "print(s1.rjust(50, '>'))\n",
        "\n",
        "print('\\n\\nCompletar con 0')\n",
        "print('-123.45'.zfill(4))\n",
        "print('-123.45'.zfill(12))"
      ],
      "execution_count": null,
      "outputs": [
        {
          "output_type": "stream",
          "text": [
            "String centrado:\n",
            "      fundamentos de programación en Python.      \n",
            "______fundamentos de programación en Python.______\n",
            "\n",
            "\n",
            "Alineado a la izquierda:\n",
            "fundamentos de programación en Python.            \n",
            "fundamentos de programación en Python.<<<<<<<<<<<<\n",
            "\n",
            "\n",
            "Alineado a la derecha:\n",
            "            fundamentos de programación en Python.\n",
            ">>>>>>>>>>>>fundamentos de programación en Python.\n",
            "\n",
            "\n",
            "Completar con 0\n",
            "-123.45\n",
            "-00000123.45\n"
          ],
          "name": "stdout"
        }
      ]
    },
    {
      "cell_type": "code",
      "metadata": {
        "id": "Wip20YicdUZL"
      },
      "source": [
        "#Funciones de texto\n",
        "\n",
        "s1 = 'el motivo de mi RECLAMO es la demora en la entrega del producto que compré ONLINE, pésimo servicio.'\n",
        "\n",
        "print('Minúsculas:\\n', s1.lower())\n",
        "print('\\nMayúsculas:\\n', s1.upper())\n",
        "\n",
        "print('\\nPrimera letra en mayúscula:\\n', s1.capitalize())\n",
        "print('\\nPrimera letra de cada palabra en mayúscula:\\n', s1.title())\n",
        "\n",
        "print('\\nIntercambiar entre mayúsculas y minúsculas:\\n', s1.swapcase())"
      ],
      "execution_count": null,
      "outputs": []
    },
    {
      "cell_type": "code",
      "metadata": {
        "id": "h7acNHIFdUZL"
      },
      "source": [
        "#Otras funciones\n",
        "s1 = '2020'\n",
        "s2 = 'python'\n",
        "s3 = 'Python'\n",
        "s4 = 'PythonDMC'\n",
        "s5 = 'Python-DMC'\n",
        "\n",
        "#s1.isnumeric(),  s2.isnumeric(),  s3.isnumeric(),  s4.isnumeric(),  s5.isnumeric()\n",
        "#s1.isalpha(),    s2.isalpha(),    s3.isalpha(),    s4.isalpha(),    s5.isalpha()\n",
        "#s1.islower(),    s2.islower(),    s3.islower(),    s4.islower(),    s5.islower()\n",
        "#s1.isalnum(),    s2.isalnum(),    s3.isalnum(),    s4.isalnum(),    s5.isalnum()"
      ],
      "execution_count": null,
      "outputs": []
    },
    {
      "cell_type": "code",
      "metadata": {
        "id": "IXnLg1KDdUZM",
        "colab": {
          "base_uri": "https://localhost:8080/"
        },
        "outputId": "1d28e61a-94c7-4186-825e-780481f79992"
      },
      "source": [
        "#Reemplazar, buscar y dividir.\n",
        "\n",
        "s = 'Python es un lenguaje de tipado dinamico.'\n",
        "\n",
        "lista_palabras = s.split()\n",
        "print(lista_palabras)"
      ],
      "execution_count": null,
      "outputs": [
        {
          "output_type": "stream",
          "text": [
            "['Python', 'es', 'un', 'lenguaje', 'de', 'tipado', 'dinamico.']\n"
          ],
          "name": "stdout"
        }
      ]
    },
    {
      "cell_type": "code",
      "metadata": {
        "colab": {
          "base_uri": "https://localhost:8080/"
        },
        "id": "q4vj494OdUZM",
        "outputId": "be560509-c2c8-4f80-ac84-802ea49833b4"
      },
      "source": [
        "#Función Zip\n",
        "paises = [\"China\", \"India\", \"Estados Unidos\", \"Indonesia\"]\n",
        "poblaciones = [1391, 1364, 327, 264]\n",
        "list(zip(paises, poblaciones))"
      ],
      "execution_count": null,
      "outputs": [
        {
          "output_type": "execute_result",
          "data": {
            "text/plain": [
              "[('China', 1391), ('India', 1364), ('Estados Unidos', 327), ('Indonesia', 264)]"
            ]
          },
          "metadata": {
            "tags": []
          },
          "execution_count": 19
        }
      ]
    },
    {
      "cell_type": "code",
      "metadata": {
        "id": "JbIfx8lldUZM",
        "colab": {
          "base_uri": "https://localhost:8080/"
        },
        "outputId": "14ce3833-8757-411e-aa64-0b58c533cc79"
      },
      "source": [
        "s = s.replace('.', '')\n",
        "\n",
        "lista_palabras = s.split()\n",
        "print(lista_palabras)"
      ],
      "execution_count": null,
      "outputs": [
        {
          "output_type": "stream",
          "text": [
            "['Python', 'es', 'un', 'lenguaje', 'de', 'tipado', 'es', 'es', 'dinamico']\n"
          ],
          "name": "stdout"
        }
      ]
    },
    {
      "cell_type": "code",
      "metadata": {
        "colab": {
          "base_uri": "https://localhost:8080/"
        },
        "id": "7fP0B853dUZM",
        "outputId": "acdc4f1f-a226-472a-a857-ad628fc66850"
      },
      "source": [
        "s = 'Python es un lenguaje de tipado dinamico.'\n",
        "ss = 'de'\n",
        "\n",
        "print('Dado el substring:', ss)\n",
        "print('Índice de inicio del substring:', s.find(ss))\n",
        "print('Cantidad de ocurrencias del substring:', s.count(ss))"
      ],
      "execution_count": null,
      "outputs": [
        {
          "output_type": "stream",
          "text": [
            "Dado el substring: de\n",
            "Índice de inicio del substring: 22\n",
            "Cantidad de ocurrencias del substring: 1\n"
          ],
          "name": "stdout"
        }
      ]
    },
    {
      "cell_type": "markdown",
      "metadata": {
        "id": "MpxSAJZmdUZM"
      },
      "source": [
        "## PRACTICA 01 - Escribir un programa que reciba el siguiente texto y muestre:\n",
        "\n",
        "* Cantidad de palabras distintas\n",
        "* Frecuencia de cada palabra encontrada\n",
        "\n",
        "Buenas tardes, he notado consumos no reconocidos en mi tarjeta de crédito que no he realizado. Mis últimos consumos son del 4 de abril pero en el estado de cuenta de mi tarjeta de crédito aparecen consumos posteriores. Espero su pronta ayuda, abonando el monto de los consumos al saldo de mi tarjeta, gracias."
      ]
    },
    {
      "cell_type": "code",
      "metadata": {
        "id": "ffo1eL-KdUZM"
      },
      "source": [
        "#Ingrese su respuesta aquí\n",
        "\n",
        "texto = 'Buenas tardes, he notado consumos no reconocidos en mi tarjeta de crédito que no he realizado. Mis últimos consumos son del 4 de abril pero en el estado de cuenta de mi tarjeta de crédito aparecen consumos posteriores. Espero su pronta ayuda, abonando el monto de los consumos al saldo de mi tarjeta, gracias.'\n"
      ],
      "execution_count": null,
      "outputs": []
    },
    {
      "cell_type": "code",
      "metadata": {
        "id": "cImQ8du7dUZN"
      },
      "source": [
        "listaPalabras = texto.split()\n",
        "frecuenciaPalab = []\n",
        "for palabra in listaPalabras:\n",
        "    frecuenciaPalab.append(listaPalabras.count(palabra))\n",
        "\n",
        "print(\"Cadena\\n\" + texto +\"\\n\")\n",
        "print(\"Lista\\n\" + str(listaPalabras) + \"\\n\")\n",
        "print(\"Frecuencias\\n\" + str(frecuenciaPalab) + \"\\n\")\n",
        "print(\"Pares\\n\" + str(list(zip(listaPalabras, frecuenciaPalab))))"
      ],
      "execution_count": null,
      "outputs": []
    },
    {
      "cell_type": "code",
      "metadata": {
        "colab": {
          "base_uri": "https://localhost:8080/"
        },
        "id": "xyoAvDJOU1Qn",
        "outputId": "2eb9bc26-29e6-45ca-b0d8-9398738dda0f"
      },
      "source": [
        "import pandas as pd\n",
        "print(texto)   #Texto inicialmente\n",
        "texto = texto.replace('.', '')   #Quitamos los puntos del texto\n",
        "texto = texto.replace(',', '')   #Quitamos las comas del texto.\n",
        "lista = texto.lower().split()    #Construimos una lista de las palabras en minúscula (homogenizamos texto)\n",
        "\n",
        "lista_sin_duplicado = []\n",
        "frecuencia = []\n",
        "for i in lista:\n",
        "  if i not in lista_sin_duplicado:\n",
        "    lista_sin_duplicado.append(i)\n",
        "    frecuencia.append(lista.count(i))\n",
        "  \n",
        "print(f\"*Cantidad de palabras distintas        : {len(lista_sin_duplicado)}\")\n",
        "print(f\"*Frecuencia de cada palabra encontrada :\")\n",
        "print(f\"{list(zip(lista_sin_duplicado,frecuencia))}\\n\")   #Frecuencia de cada palabra encontrada\n",
        "\n",
        "#Otra vista de las palabras y sus frecuencias\n",
        "serie=pd.Series(frecuencia,lista_sin_duplicado)\n",
        "serie.sort_values(ascending=False)"
      ],
      "execution_count": null,
      "outputs": [
        {
          "output_type": "stream",
          "text": [
            "Buenas tardes he notado consumos no reconocidos en mi tarjeta de crédito que no he realizado Mis últimos consumos son del 4 de abril pero en el estado de cuenta de mi tarjeta de crédito aparecen consumos posteriores Espero su pronta ayuda abonando el monto de los consumos al saldo de mi tarjeta gracias\n",
            "*Cantidad de palabras distintas        : 36\n",
            "*Frecuencia de cada palabra encontrada :\n",
            "[('buenas', 1), ('tardes', 1), ('he', 2), ('notado', 1), ('consumos', 4), ('no', 2), ('reconocidos', 1), ('en', 2), ('mi', 3), ('tarjeta', 3), ('de', 7), ('crédito', 2), ('que', 1), ('realizado', 1), ('mis', 1), ('últimos', 1), ('son', 1), ('del', 1), ('4', 1), ('abril', 1), ('pero', 1), ('el', 2), ('estado', 1), ('cuenta', 1), ('aparecen', 1), ('posteriores', 1), ('espero', 1), ('su', 1), ('pronta', 1), ('ayuda', 1), ('abonando', 1), ('monto', 1), ('los', 1), ('al', 1), ('saldo', 1), ('gracias', 1)]\n",
            "\n"
          ],
          "name": "stdout"
        },
        {
          "output_type": "execute_result",
          "data": {
            "text/plain": [
              "de             7\n",
              "consumos       4\n",
              "mi             3\n",
              "tarjeta        3\n",
              "crédito        2\n",
              "he             2\n",
              "no             2\n",
              "el             2\n",
              "en             2\n",
              "mis            1\n",
              "realizado      1\n",
              "que            1\n",
              "gracias        1\n",
              "son            1\n",
              "reconocidos    1\n",
              "notado         1\n",
              "tardes         1\n",
              "últimos        1\n",
              "del            1\n",
              "saldo          1\n",
              "su             1\n",
              "al             1\n",
              "los            1\n",
              "monto          1\n",
              "abonando       1\n",
              "ayuda          1\n",
              "pronta         1\n",
              "espero         1\n",
              "4              1\n",
              "posteriores    1\n",
              "aparecen       1\n",
              "cuenta         1\n",
              "estado         1\n",
              "pero           1\n",
              "abril          1\n",
              "buenas         1\n",
              "dtype: int64"
            ]
          },
          "metadata": {
            "tags": []
          },
          "execution_count": 18
        }
      ]
    }
  ]
}