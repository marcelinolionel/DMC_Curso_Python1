{
  "nbformat": 4,
  "nbformat_minor": 0,
  "metadata": {
    "colab": {
      "name": "Sesión04_FDP_OG7_Fechas_String.ipynb",
      "provenance": [],
      "collapsed_sections": [],
      "include_colab_link": true
    },
    "kernelspec": {
      "display_name": "Python 3",
      "language": "python",
      "name": "python3"
    },
    "language_info": {
      "codemirror_mode": {
        "name": "ipython",
        "version": 3
      },
      "file_extension": ".py",
      "mimetype": "text/x-python",
      "name": "python",
      "nbconvert_exporter": "python",
      "pygments_lexer": "ipython3",
      "version": "3.8.3"
    }
  },
  "cells": [
    {
      "cell_type": "markdown",
      "metadata": {
        "id": "view-in-github",
        "colab_type": "text"
      },
      "source": [
        "<a href=\"https://colab.research.google.com/github/marcelinolionel/DMC_Curso_Python1/blob/main/Sesi%C3%B3n04_FDP_OG7_Fechas_String.ipynb\" target=\"_parent\"><img src=\"https://colab.research.google.com/assets/colab-badge.svg\" alt=\"Open In Colab\"/></a>"
      ]
    },
    {
      "cell_type": "markdown",
      "metadata": {
        "id": "OlP0mwzPTj51"
      },
      "source": [
        " # Paquete Datetime"
      ]
    },
    {
      "cell_type": "markdown",
      "metadata": {
        "id": "yGOhOL6jTj52"
      },
      "source": [
        "### Importando el paquete datetime."
      ]
    },
    {
      "cell_type": "code",
      "metadata": {
        "id": "cMzO2WFxTj53"
      },
      "source": [
        "import datetime as dt"
      ],
      "execution_count": null,
      "outputs": []
    },
    {
      "cell_type": "markdown",
      "metadata": {
        "id": "kfealoxHTj6A"
      },
      "source": [
        "### Creando una variable de tiempo\n",
        "\n",
        "* Se necesitan los argumentos de hora, minuto, segundo y microsegundos\n",
        "* Si alguno no es brindado se completa con 0 por defecto."
      ]
    },
    {
      "cell_type": "code",
      "metadata": {
        "id": "vL0DIciSTj6A",
        "outputId": "6f91d8c3-9ede-43d9-e08d-38620ac7f47f"
      },
      "source": [
        "print(dt.time(1), \"1 Hora\")\n",
        "\n",
        "print(dt.time(2, 30), \"2 Horas y 30 minutos\")\n",
        "\n",
        "print(dt.time(3, 45, 30), \"3 Horas, 45 minutos y 30 segundos\")"
      ],
      "execution_count": null,
      "outputs": [
        {
          "output_type": "stream",
          "text": [
            "01:00:00 1 Hora\n",
            "02:30:00 2 Horas y 30 minutos\n",
            "03:45:30 3 Horas, 45 minutos y 30 segundos\n"
          ],
          "name": "stdout"
        }
      ]
    },
    {
      "cell_type": "markdown",
      "metadata": {
        "id": "iL4XjeKaTj6E"
      },
      "source": [
        "### `dt.datetime.now` para obtener el datetime actual.   "
      ]
    },
    {
      "cell_type": "code",
      "metadata": {
        "id": "OyLZPgc4Tj6E",
        "outputId": "972df12e-7d2e-4eeb-b97f-2f82f0c8c275"
      },
      "source": [
        "now = dt.datetime.now()\n",
        "print(now)"
      ],
      "execution_count": null,
      "outputs": [
        {
          "output_type": "stream",
          "text": [
            "2020-11-15 07:13:27.237550\n"
          ],
          "name": "stdout"
        }
      ]
    },
    {
      "cell_type": "markdown",
      "metadata": {
        "id": "VYR7rc-dTj6J"
      },
      "source": [
        "Algunos atributos:"
      ]
    },
    {
      "cell_type": "code",
      "metadata": {
        "id": "FglSeAjWTj6K",
        "outputId": "9264e286-1218-4aea-a6a9-ec0e6e70a45b"
      },
      "source": [
        "print(\"Fecha\\n\")\n",
        "print(\"El año actual es:\", now.year)\n",
        "print(\"El mes actual es:\", now.month)\n",
        "print(\"El día actual es:\", now.day)\n",
        "\n",
        "print(\"\\nTiempo\\n\")\n",
        "print(\"La hora actual es:   \", now.hour)\n",
        "print(\"El minuto actual es: \", now.minute)\n",
        "print(\"El segundo actual es:\", now.second)"
      ],
      "execution_count": null,
      "outputs": [
        {
          "output_type": "stream",
          "text": [
            "Fecha\n",
            "\n",
            "El año actual es: 2020\n",
            "El mes actual es: 11\n",
            "El día actual es: 15\n",
            "\n",
            "Tiempo\n",
            "\n",
            "La hora actual es:    7\n",
            "El minuto actual es:  13\n",
            "El segundo actual es: 27\n"
          ],
          "name": "stdout"
        }
      ]
    },
    {
      "cell_type": "markdown",
      "metadata": {
        "id": "pWquEnoXTj6W"
      },
      "source": [
        "Para crear un datetime en particular es necesario pasar los atributos de año, mes y día; los de tiempo son opcionales."
      ]
    },
    {
      "cell_type": "code",
      "metadata": {
        "id": "hCn6RFvqTj6Y",
        "outputId": "191b6130-e3b0-4384-fd43-503dbaacfefc"
      },
      "source": [
        "navidad_date = dt.datetime(2020, 12, 25)\n",
        "print(navidad_date)"
      ],
      "execution_count": null,
      "outputs": [
        {
          "output_type": "stream",
          "text": [
            "2020-12-25 00:00:00\n"
          ],
          "name": "stdout"
        }
      ]
    },
    {
      "cell_type": "code",
      "metadata": {
        "id": "Ph2vhaaQTj6k",
        "outputId": "c5edcfd5-6520-4c03-f5b6-de9d6b2351ba"
      },
      "source": [
        "diff = navidad_date - now\n",
        "print(diff)"
      ],
      "execution_count": null,
      "outputs": [
        {
          "output_type": "stream",
          "text": [
            "39 days, 16:46:32.762450\n"
          ],
          "name": "stdout"
        }
      ]
    },
    {
      "cell_type": "code",
      "metadata": {
        "id": "2RT7oB3hkcKk",
        "outputId": "ab6e2517-0d2d-4fb6-fb31-206126f7a5d5"
      },
      "source": [
        "type(diff)"
      ],
      "execution_count": null,
      "outputs": [
        {
          "output_type": "execute_result",
          "data": {
            "text/plain": [
              "datetime.timedelta"
            ]
          },
          "metadata": {
            "tags": []
          },
          "execution_count": 8
        }
      ]
    },
    {
      "cell_type": "markdown",
      "metadata": {
        "id": "Az_BFR5_gjb_"
      },
      "source": [
        "Podemos crear un objeto timedelta también y añadirlo a un datetime:"
      ]
    },
    {
      "cell_type": "code",
      "metadata": {
        "id": "PvcogWGMgjcC",
        "outputId": "5c903b31-7817-4786-91c5-8283ca353d26"
      },
      "source": [
        "inc = dt.timedelta(days=45, hours=7)\n",
        "\n",
        "print(now)\n",
        "print(inc)\n",
        "print(now + inc)"
      ],
      "execution_count": null,
      "outputs": [
        {
          "output_type": "stream",
          "text": [
            "2020-11-15 07:13:27.237550\n",
            "45 days, 7:00:00\n",
            "2020-12-30 14:13:27.237550\n"
          ],
          "name": "stdout"
        }
      ]
    },
    {
      "cell_type": "markdown",
      "metadata": {
        "id": "g0i1g6xDTj6p"
      },
      "source": [
        "### String to Datetime:\n",
        "\n",
        "- %Y for year\n",
        "- %d for day\n",
        "- %m for month\n",
        "- %H for hour\n",
        "- %M for minute\n",
        "- %S for second"
      ]
    },
    {
      "cell_type": "code",
      "metadata": {
        "id": "ZQEp010FlEtI",
        "outputId": "9d837400-69b1-4e66-eb1f-91b83bbafee3"
      },
      "source": [
        "str_date = \"18-07-1994\"\n",
        "str_date = dt.datetime.strptime(str_date,\"%d-%m-%Y\")\n",
        "print(str_date)"
      ],
      "execution_count": null,
      "outputs": [
        {
          "output_type": "stream",
          "text": [
            "1994-07-18 00:00:00\n"
          ],
          "name": "stdout"
        }
      ]
    },
    {
      "cell_type": "code",
      "metadata": {
        "id": "YP2K3zt0fwTO",
        "outputId": "9fee10a7-95ad-4710-f8e4-f87c3cdd83c1"
      },
      "source": [
        "type(str_date)"
      ],
      "execution_count": null,
      "outputs": [
        {
          "output_type": "execute_result",
          "data": {
            "text/plain": [
              "datetime.datetime"
            ]
          },
          "metadata": {
            "tags": []
          },
          "execution_count": 11
        }
      ]
    },
    {
      "cell_type": "code",
      "metadata": {
        "id": "JJwIxCuYlRXa",
        "outputId": "b88fe6eb-d563-4360-b7e8-caa1edda0640"
      },
      "source": [
        "str_date = \"18/07/1994\"\n",
        "str_date = dt.datetime.strptime(str_date,\"%d/%m/%Y\")\n",
        "print(str_date)"
      ],
      "execution_count": null,
      "outputs": [
        {
          "output_type": "stream",
          "text": [
            "1994-07-18 00:00:00\n"
          ],
          "name": "stdout"
        }
      ]
    },
    {
      "cell_type": "code",
      "metadata": {
        "id": "mkpSPQ8Rfzap",
        "outputId": "e151f117-b1f5-430c-aaae-8935379b6a6a"
      },
      "source": [
        "type(str_date)"
      ],
      "execution_count": null,
      "outputs": [
        {
          "output_type": "execute_result",
          "data": {
            "text/plain": [
              "datetime.datetime"
            ]
          },
          "metadata": {
            "tags": []
          },
          "execution_count": 13
        }
      ]
    },
    {
      "cell_type": "markdown",
      "metadata": {
        "id": "UjWaIM9ITj6w"
      },
      "source": [
        "### Datetime to String:"
      ]
    },
    {
      "cell_type": "code",
      "metadata": {
        "id": "hGCf0nkUTj6w",
        "outputId": "eb7a1541-cdee-43d6-855b-a5a8a2a4ca2c"
      },
      "source": [
        "date_str = dt.datetime.strftime(str_date, \"%Y-%m-%d %H:%M:%S\")\n",
        "print(date_str)"
      ],
      "execution_count": null,
      "outputs": [
        {
          "output_type": "stream",
          "text": [
            "1994-07-18 00:00:00\n"
          ],
          "name": "stdout"
        }
      ]
    },
    {
      "cell_type": "code",
      "metadata": {
        "id": "tExQWpEdf65k",
        "outputId": "ccfd6439-69f0-4923-bdf9-caef798a618d"
      },
      "source": [
        "type(date_str)"
      ],
      "execution_count": null,
      "outputs": [
        {
          "output_type": "execute_result",
          "data": {
            "text/plain": [
              "str"
            ]
          },
          "metadata": {
            "tags": []
          },
          "execution_count": 15
        }
      ]
    },
    {
      "cell_type": "code",
      "metadata": {
        "id": "YSdPZPeCf824"
      },
      "source": [
        "# Strings"
      ],
      "execution_count": null,
      "outputs": []
    },
    {
      "cell_type": "code",
      "metadata": {
        "id": "pm_a36A6U9ZO"
      },
      "source": [
        "#Ascii to Char\n",
        "\n",
        "chr(123)"
      ],
      "execution_count": null,
      "outputs": []
    },
    {
      "cell_type": "code",
      "metadata": {
        "id": "Av3IX4OXU9ZP"
      },
      "source": [
        "#Char to Ascii\n",
        "\n",
        "ord('@')"
      ],
      "execution_count": null,
      "outputs": []
    },
    {
      "cell_type": "code",
      "metadata": {
        "id": "_pQUdbN_U9ZR"
      },
      "source": [
        "#Creación de un string\n",
        "\n",
        "s1 = 'fundamentos de programación en Python.'"
      ],
      "execution_count": null,
      "outputs": []
    },
    {
      "cell_type": "code",
      "metadata": {
        "id": "rGL8toDmU9ZT"
      },
      "source": [
        "#Pertenencia\n",
        "\n",
        "'de' in s1"
      ],
      "execution_count": null,
      "outputs": []
    },
    {
      "cell_type": "code",
      "metadata": {
        "id": "nUl_wxewU9ZU"
      },
      "source": [
        "'Fundamentos' not in s1"
      ],
      "execution_count": null,
      "outputs": []
    },
    {
      "cell_type": "code",
      "metadata": {
        "id": "FaID-d69U9ZW"
      },
      "source": [
        "#Longitud de un string\n",
        "\n",
        "len(s1)"
      ],
      "execution_count": null,
      "outputs": []
    },
    {
      "cell_type": "code",
      "metadata": {
        "id": "htYS-8tUU9ZY"
      },
      "source": [
        "#Acceso (Indexing - Slicing)\n",
        "\n",
        "print(s1[0])\n",
        "print(s1[-1])\n",
        "print(s1[4:8])\n",
        "print(s1[::-1])"
      ],
      "execution_count": null,
      "outputs": []
    },
    {
      "cell_type": "code",
      "metadata": {
        "id": "-ES_cOoUU9Za",
        "outputId": "3aab40b8-3afe-4670-da12-c6801971dcd3"
      },
      "source": [
        "#Insertar un salto de línea\n",
        "\n",
        "print('Primera línea\\nSegunda línea')"
      ],
      "execution_count": null,
      "outputs": [
        {
          "output_type": "stream",
          "text": [
            "Primera línea\n",
            "Segunda línea\n"
          ],
          "name": "stdout"
        }
      ]
    },
    {
      "cell_type": "code",
      "metadata": {
        "id": "wslLuRoOU9Zc",
        "outputId": "1fbe3f59-ade8-4255-f593-7674ca9fb05c"
      },
      "source": [
        "#Insertar un tabulador\n",
        "print('Primera línea\\tSegunda línea')"
      ],
      "execution_count": null,
      "outputs": [
        {
          "output_type": "stream",
          "text": [
            "Primera línea\tSegunda línea\n"
          ],
          "name": "stdout"
        }
      ]
    },
    {
      "cell_type": "code",
      "metadata": {
        "id": "Mt_hUFutU9Ze"
      },
      "source": [
        "#Funciones de desplazamiento\n",
        "\n",
        "print('String centrado:')\n",
        "print(s1.center(50))\n",
        "print(s1.center(50, '_'))\n",
        "\n",
        "print('\\n\\nAlineado a la izquierda:')\n",
        "print(s1.ljust(50))\n",
        "print(s1.ljust(50, '<'))\n",
        "\n",
        "print('\\n\\nAlineado a la derecha:')\n",
        "print(s1.rjust(50))\n",
        "print(s1.rjust(50, '>'))\n",
        "\n",
        "print('\\n\\nCompletar con 0')\n",
        "print('-123.45'.zfill(4))\n",
        "print('-123.45'.zfill(12))"
      ],
      "execution_count": null,
      "outputs": []
    },
    {
      "cell_type": "code",
      "metadata": {
        "id": "xn3N3R4KU9Zg"
      },
      "source": [
        "#Funciones de texto\n",
        "\n",
        "s1 = 'el motivo de mi RECLAMO es la demora en la entrega del producto que compré ONLINE, pésimo servicio.'\n",
        "\n",
        "print('Minúsculas:\\n', s1.lower())\n",
        "print('\\nMayúsculas:\\n', s1.upper())\n",
        "\n",
        "print('\\nPrimera letra en mayúscula:\\n', s1.capitalize())\n",
        "print('\\nPrimera letra de cada palabra en mayúscula:\\n', s1.title())\n",
        "\n",
        "print('\\nIntercambiar entre mayúsculas y minúsculas:\\n', s1.swapcase())"
      ],
      "execution_count": null,
      "outputs": []
    },
    {
      "cell_type": "code",
      "metadata": {
        "id": "vAMzGIErU9Zi",
        "outputId": "e3ba3daa-596b-4b53-8217-b0e776d0a51b"
      },
      "source": [
        "#Otras funciones\n",
        "s1 = '2020'\n",
        "s2 = 'python'\n",
        "s3 = 'Python'\n",
        "s4 = 'PythonDMC'\n",
        "s5 = 'Python-DMC'\n",
        "\n",
        "#s1.isnumeric(),  s2.isnumeric(),  s3.isnumeric(),  s4.isnumeric(),  s5.isnumeric()\n",
        "#s1.isalpha(),    s2.isalpha(),    s3.isalpha(),    s4.isalpha(),    s5.isalpha()\n",
        "#s1.islower(),    s2.islower(),    s3.islower(),    s4.islower(),    s5.islower()\n",
        "#s1.isalnum(),    s2.isalnum(),    s3.isalnum(),    s4.isalnum(),    s5.isalnum()"
      ],
      "execution_count": null,
      "outputs": [
        {
          "output_type": "execute_result",
          "data": {
            "text/plain": [
              "(True, False, False, False, False)"
            ]
          },
          "metadata": {
            "tags": []
          },
          "execution_count": 18
        }
      ]
    },
    {
      "cell_type": "code",
      "metadata": {
        "id": "2Nrq1OhcU9Zl",
        "outputId": "d8fc7ce4-49d4-4506-d72c-0adfc845aa5d"
      },
      "source": [
        "#Reemplazar, buscar y dividir.\n",
        "\n",
        "s = 'Python es un lenguaje de tipado dinamico.'\n",
        "\n",
        "lista_palabras = s.split()\n",
        "print(lista_palabras)"
      ],
      "execution_count": null,
      "outputs": [
        {
          "output_type": "stream",
          "text": [
            "['Python', 'es', 'un', 'lenguaje', 'de', 'tipado', 'dinamico.']\n"
          ],
          "name": "stdout"
        }
      ]
    },
    {
      "cell_type": "code",
      "metadata": {
        "id": "NQ5XdICbU9Zn",
        "outputId": "0e49ee5e-198a-453b-ac37-c4b73d38b67c"
      },
      "source": [
        "Función Zip\n",
        "paises = [\"China\", \"India\", \"Estados Unidos\", \"Indonesia\"]\n",
        "poblaciones = [1391, 1364, 327, 264]\n",
        "list(zip(paises, poblaciones))"
      ],
      "execution_count": null,
      "outputs": [
        {
          "output_type": "execute_result",
          "data": {
            "text/plain": [
              "[('China', 1391), ('India', 1364), ('Estados Unidos', 327), ('Indonesia', 264)]"
            ]
          },
          "metadata": {
            "tags": []
          },
          "execution_count": 28
        }
      ]
    },
    {
      "cell_type": "code",
      "metadata": {
        "id": "LCMHER74U9Zo",
        "outputId": "158c03fa-931f-4e37-d008-dea2dc2cb2f3"
      },
      "source": [
        "s = s.replace('.', '')\n",
        "\n",
        "lista_palabras = s.split()\n",
        "print(lista_palabras)"
      ],
      "execution_count": null,
      "outputs": [
        {
          "output_type": "stream",
          "text": [
            "['Python', 'es', 'un', 'lenguaje', 'de', 'tipado', 'dinamico']\n"
          ],
          "name": "stdout"
        }
      ]
    },
    {
      "cell_type": "code",
      "metadata": {
        "id": "xxdTZMwGU9Zq"
      },
      "source": [
        "ss = 'de'\n",
        "\n",
        "print('Dado el substring:', ss)\n",
        "print('Índice de inicio del substring:', s.find(ss))\n",
        "print('Cantidad de ocurrencias del substring:', s.count(ss))"
      ],
      "execution_count": null,
      "outputs": []
    },
    {
      "cell_type": "markdown",
      "metadata": {
        "id": "G4lGOTvlU9Zs"
      },
      "source": [
        "## PRACTICA 01 - Escribir un programa que reciba el siguiente texto y muestre:\n",
        "\n",
        "* Cantidad de palabras distintas\n",
        "* Frecuencia de cada palabra encontrada\n",
        "\n",
        "Buenas tardes, he notado consumos no reconocidos en mi tarjeta de crédito que no he realizado. Mis últimos consumos son del 4 de abril pero en el estado de cuenta de mi tarjeta de crédito aparecen consumos posteriores. Espero su pronta ayuda, abonando el monto de los consumos al saldo de mi tarjeta, gracias."
      ]
    },
    {
      "cell_type": "code",
      "metadata": {
        "id": "tlDiyI5uU9Zs"
      },
      "source": [
        "#Ingrese su respuesta aquí\n",
        "\n",
        "texto = 'Buenas tardes, he notado consumos no reconocidos en mi tarjeta de crédito que no he realizado. Mis últimos consumos son del 4 de abril pero en el estado de cuenta de mi tarjeta de crédito aparecen consumos posteriores. Espero su pronta ayuda, abonando el monto de los consumos al saldo de mi tarjeta, gracias.'\n"
      ],
      "execution_count": null,
      "outputs": []
    },
    {
      "cell_type": "code",
      "metadata": {
        "id": "e8Vh2CXMU9Zu"
      },
      "source": [
        "#listaPalabras = texto.split()\n",
        "\n",
        "#frecuenciaPalab = []\n",
        "#for palabra in listaPalabras:\n",
        "    #frecuenciaPalab.append(listaPalabras.count(palabra))\n",
        "\n",
        "#print(\"Cadena\\n\" + texto +\"\\n\")\n",
        "#print(\"Lista\\n\" + str(listaPalabras) + \"\\n\")\n",
        "#print(\"Frecuencias\\n\" + str(frecuenciaPalab) + \"\\n\")\n",
        "#print(\"Pares\\n\" + str(list(zip(listaPalabras, frecuenciaPalab))))"
      ],
      "execution_count": null,
      "outputs": []
    },
    {
      "cell_type": "code",
      "metadata": {
        "id": "4HmObYB_U9Zv"
      },
      "source": [
        ""
      ],
      "execution_count": null,
      "outputs": []
    }
  ]
}