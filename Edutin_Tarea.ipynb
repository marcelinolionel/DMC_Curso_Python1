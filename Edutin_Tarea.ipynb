{
  "nbformat": 4,
  "nbformat_minor": 0,
  "metadata": {
    "colab": {
      "name": "Edutin_Tarea.ipynb",
      "provenance": [],
      "authorship_tag": "ABX9TyPFkQGWrkbU9rza2H0qhMM7",
      "include_colab_link": true
    },
    "kernelspec": {
      "name": "python3",
      "display_name": "Python 3"
    }
  },
  "cells": [
    {
      "cell_type": "markdown",
      "metadata": {
        "id": "view-in-github",
        "colab_type": "text"
      },
      "source": [
        "<a href=\"https://colab.research.google.com/github/marcelinolionel/DMC_Curso_Python1/blob/main/Edutin_Tarea.ipynb\" target=\"_parent\"><img src=\"https://colab.research.google.com/assets/colab-badge.svg\" alt=\"Open In Colab\"/></a>"
      ]
    },
    {
      "cell_type": "markdown",
      "metadata": {
        "id": "jh17agApGkij"
      },
      "source": [
        "# **Problema: Primer programa**\n",
        "\n",
        "Escriba su primer programa por consola, pero en vez de decir “Hola mundo”, debes imprimir: “Hola, soy (tunombre) y estoy aprendiendo Python”. \n"
      ]
    },
    {
      "cell_type": "code",
      "metadata": {
        "id": "tW_ptCgHE8Ph"
      },
      "source": [
        "tunombre=input(\"Ingresa tu nombre:\")\n",
        "print(f\"Hola, soy {tunombre} y estoy aprendiendo Python.\")"
      ],
      "execution_count": null,
      "outputs": []
    },
    {
      "cell_type": "markdown",
      "metadata": {
        "id": "fpz0FgL2KaHm"
      },
      "source": [
        "# **Problema: Calculadora**\n",
        "Escriba un programa que permita realizar las operaciones matemáticas básicas: suma, resta, multiplicación, división.\n",
        "Tenga en cuenta que el usuario escribirá en la consola los números y la operación a realizar.\n",
        "**Ejemplo:** suma\n",
        "5 + 2\n",
        "Resultado:7"
      ]
    },
    {
      "cell_type": "code",
      "metadata": {
        "id": "l0eZPbtosz0S"
      },
      "source": [
        "consulta=\"SI\"\n",
        "while consulta==\"SI\":   #Inicializamos el bucle\n",
        "  #Ingreso de los 2 números\n",
        "  num1=float(input(\"Ingresar el 1er número: \"))\n",
        "  num2=float(input(\"Ingresar el 2do número: \")) \n",
        "  #Imprimimos el mensaje (operación a trabajar)\n",
        "  print(\"Listamos las operaciones con las que podemos trabajar:\\n\",\n",
        "        \"Suma(S) , Resta(R) , Multiplicación(M) , División(D)\\n\")\n",
        "  operador_matematico=1   #Creamos 1 variable binaria auxiliar, que nos ayuda a controlar la condición del bucle\n",
        "  #Garantizamos que la operación a elegir sea cualquiera de las 4 listadas\n",
        "  while operador_matematico==1:\n",
        "    operacion=input(\"-->Elegir la operación, colocando la letra que figura en el paréntesis.\\n\")\n",
        "    if operacion==\"S\" or operacion==\"R\" or operacion==\"M\" or operacion==\"D\":\n",
        "      operador_matematico=0\n",
        "    else:\n",
        "      operador_matematico=1\n",
        "  #Otra opción:\n",
        "  #Garantizamos que la operación a elegir sea cualquiera de las 4 listadas\n",
        "  #operacion=input(\"-->Elegir la operación, colocando la letra que figura en el paréntesis.\\n\")\n",
        "  #while (operacion==\"S\" or operacion==\"R\" or operacion==\"M\" or operacion==\"D\") == False:   #False == False (Verdadero) -> Se ejecuta\n",
        "  #  operacion=input(\"-->Elegir la operación, colocando la letra que figura en el paréntesis.\\n\")\n",
        "\n",
        "  #Imprimimos el resultado de la operación elegida\n",
        "  if operacion==\"S\":\n",
        "    print(f\"Suma: {num1+num2}\")\n",
        "  elif operacion==\"R\":\n",
        "    print(f\"Resta: {num1-num2}\")\n",
        "  elif operacion==\"M\":\n",
        "    print(f\"Multiplicación: {num1*num2}\")\n",
        "  else:\n",
        "    while num2==0:\n",
        "      num2=float(input(\"El 2do número debe ser diferente de cero: \"))\n",
        "    print(f\"División: {num1/num2}\")\n",
        "  consulta=input(\"Desea hacer otra operación (SI) o (NO) : \")\n",
        "  while (consulta==\"SI\" or consulta==\"NO\") == False:\n",
        "    consulta=input(\"Digite correctamente si desea hacer otra operación (SI) o (NO) : \")\n",
        "  print()\n",
        "print(\"Gracias!!!\")"
      ],
      "execution_count": null,
      "outputs": []
    },
    {
      "cell_type": "markdown",
      "metadata": {
        "id": "AdofMZKNO4ar"
      },
      "source": [
        "# **Problema: Contraseña**\n",
        "\n",
        "Escribir un programa que almacene en una variable cualquier contraseña (invéntela), por ejemplo, condicional, luego pida al usuario que ingrese una contraseña e imprima por pantalla si la introducida por el usuario coincide con la guardada en la variable sin tener en cuenta mayúsculas y minúsculas.\n",
        "Nota: Considere que el usuario puede introducir la contraseña 3 veces antes de mostrar el resultado.\n"
      ]
    },
    {
      "cell_type": "code",
      "metadata": {
        "id": "TXsRhyuZO29h"
      },
      "source": [
        "contraseña_guardada=\"condicional\" \n",
        "ingreso_contraseña=input(\"Ingrese su contraseña : \")   #1er input\n",
        "i = 2\n",
        "while (contraseña_guardada != ingreso_contraseña.lower()) and i <= 3:\n",
        "  ingreso_contraseña=input(f\"Ingrese su contraseña. Queda(n) {3-i+1} intento(s) : \")\n",
        "  i += 1\n",
        "  \n",
        "if contraseña_guardada == ingreso_contraseña.lower():\n",
        "  print(\"\\nLa contraseña es la correcta :)\")\n",
        "else:\n",
        "  print(\"\\nLa contraseña es la incorrecta :(\")"
      ],
      "execution_count": null,
      "outputs": []
    },
    {
      "cell_type": "markdown",
      "metadata": {
        "id": "tKdkwsVpuLkl"
      },
      "source": [
        "# Problema: Listado de palabras\n",
        "\n",
        "Escriba un programa que permita crear una lista con 5 palabras ingresadas por el usuario. \n",
        "\n",
        "Después deberá mostrar los elementos que contiene dicha lista e indicarle al usuario que si desea insertar o eliminar algún elemento de la lista.\n",
        "\n",
        "Dependiendo de la opción que este elija, el programa debe pedir el nombre del elemento que quiere añadir o caso contrario el que quiere eliminar, así mismo, si dijo que “no” quiere hacer nada, el programa deberá devolver un mensaje de despedida."
      ]
    },
    {
      "cell_type": "code",
      "metadata": {
        "id": "U17wiQ6guXQe"
      },
      "source": [
        "list1=input(\"Ingrese la 1era palabra : \")\n",
        "list2=input(\"Ingrese la 2da palabra  : \")\n",
        "list3=input(\"Ingrese la 3era palabra : \")\n",
        "list4=input(\"Ingrese la 4ta palabra  : \")\n",
        "list5=input(\"Ingrese la 5ta palabra  : \")\n",
        "listado=[list1,list2,list3,list4,list5]\n",
        "consulta=input(f\"Se muestra la lista: {listado}.\\n\\n\"\n",
        "              \"¿Desea insertar (I) o eliminar (E) algún elemento de la lista?.\\n\"\n",
        "              \"Si desea SALIR presione presione una tecla diferente : \")\n",
        "while consulta==\"I\" or consulta==\"E\":\n",
        "  if consulta==\"I\":\n",
        "    indice=int(input(\"Ingrese el índice o posición : \"))\n",
        "    objeto=input(\"Ingrese la nueva palabra     : \")\n",
        "    listado.insert(indice,objeto)\n",
        "    consulta=input(f\"Se muestra la lista: {listado}.\\n\\n\"\n",
        "              \"¿Desea insertar (I) o eliminar (E) algún elemento de la lista?.\\n\"\n",
        "              \"Si desea SALIR presione presione una tecla diferente : \")\n",
        "  else:\n",
        "    objeto=input(\"Ingrese la palabra que desea eliminar : \")\n",
        "    listado.remove(objeto)\n",
        "    consulta=input(f\"Se muestra la lista: {listado}.\\n\\n\"\n",
        "              \"¿Desea insertar (I) o eliminar (E) algún elemento de la lista?.\\n\"\n",
        "              \"Si desea SALIR presione presione una tecla diferente : \")\n",
        "print(\"Gracias!\")"
      ],
      "execution_count": null,
      "outputs": []
    }
  ]
}